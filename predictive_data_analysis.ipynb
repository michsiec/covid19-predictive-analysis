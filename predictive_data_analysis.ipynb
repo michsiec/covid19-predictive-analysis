{
  "nbformat": 4,
  "nbformat_minor": 0,
  "metadata": {
    "colab": {
      "provenance": []
    },
    "kernelspec": {
      "name": "python3",
      "display_name": "Python 3"
    },
    "language_info": {
      "name": "python"
    },
    "accelerator": "GPU",
    "gpuClass": "standard"
  },
  "cells": [
    {
      "cell_type": "markdown",
      "source": [
        "# COVID-19 Forecasting - Predictive Data Analysis\n",
        "\n",
        "After data cleaning and preparation, and exploratory data analysis, it's time to perform predictive data analysis on the dataset.\n",
        "\n",
        "In order to simplify the prediction process, the dataset have been appropriately converted for each predictive method; some selected variables have been summed up to make predictions for Europe as a whole, rather than analyzing each country separately. The presented approach also leaves some space for analyzing some particular countries separately if desired.\n"
      ],
      "metadata": {
        "id": "9hLXeFKnXNl2"
      }
    },
    {
      "cell_type": "code",
      "execution_count": 245,
      "metadata": {
        "id": "bKIF1Ph1XHNM"
      },
      "outputs": [],
      "source": [
        "# Import necessary libraries\n",
        "import numpy as np\n",
        "import pandas as pd\n",
        "import matplotlib.pyplot as plt\n",
        "from sklearn.linear_model import LinearRegression\n",
        "from sklearn.preprocessing import PolynomialFeatures\n",
        "from sklearn.preprocessing import LabelEncoder\n",
        "from matplotlib.dates import date2num\n",
        "from sklearn.model_selection import train_test_split\n",
        "from sklearn.metrics import r2_score\n",
        "import tensorflow as tf\n",
        "\n",
        "# Ignore warnings \n",
        "import warnings\n",
        "warnings.filterwarnings('ignore')"
      ]
    },
    {
      "cell_type": "code",
      "source": [
        "from google.colab import drive\n",
        "drive.mount('/content/drive')"
      ],
      "metadata": {
        "colab": {
          "base_uri": "https://localhost:8080/"
        },
        "id": "zK6KXYt9Xcax",
        "outputId": "29b154af-cedf-4386-fc3b-5384f30b8265"
      },
      "execution_count": 246,
      "outputs": [
        {
          "output_type": "stream",
          "name": "stdout",
          "text": [
            "Drive already mounted at /content/drive; to attempt to forcibly remount, call drive.mount(\"/content/drive\", force_remount=True).\n"
          ]
        }
      ]
    },
    {
      "cell_type": "markdown",
      "source": [
        "### Helper functions\n",
        "Some helper functions have been implemented for better readability of the code and evaluation purposes."
      ],
      "metadata": {
        "id": "1NPxzzLG2pcY"
      }
    },
    {
      "cell_type": "code",
      "source": [
        "# This function calculates mean absolute scaled error\n",
        "\n",
        "def mean_absolute_scaled_error(y_true, y_pred):\n",
        "  \"\"\"\n",
        "  Implement MASE (assuming no seasonality of data)\n",
        "  \"\"\"\n",
        "  mae = tf.reduce_mean(tf.abs(y_true - y_pred))\n",
        "\n",
        "  # Find MAE of naive forecast (no seasonality)\n",
        "  mae_naive = tf.reduce_mean(tf.abs(y_true[1:] - y_true[:-1])) # our seasonality is one day, hence the shift of one\n",
        "\n",
        "  return mae / mae_naive"
      ],
      "metadata": {
        "id": "76MweliiXhME"
      },
      "execution_count": 247,
      "outputs": []
    },
    {
      "cell_type": "code",
      "source": [
        "# This function evaluates models using different regression metrics\n",
        "\n",
        "def evaluate_dl_preds(y_true, y_pred):\n",
        "  \"\"\"\n",
        "  Takes in model predictions and truth values and return dictionary of evaluation metrics\n",
        "  \"\"\"\n",
        "  # Make sure you're operating on float32 dtype\n",
        "  y_true = tf.cast(y_true, dtype = tf.float32)\n",
        "  y_pred = tf.cast(y_pred, dtype = tf.float32)\n",
        "\n",
        "  mae = tf.keras.metrics.mean_absolute_error(y_true, y_pred)\n",
        "  mse = tf.keras.metrics.mean_squared_error(y_true, y_pred)\n",
        "  rmse = tf.sqrt(mse)\n",
        "  mape = tf.keras.metrics.mean_absolute_percentage_error(y_true, y_pred)\n",
        "  mase = mean_absolute_scaled_error(y_true, y_pred)\n",
        "  r2 = r2_score(y_true, y_pred) # R-squared\n",
        "\n",
        "\n",
        "  metrics = {\"mae\": mae.numpy().sum() / len(y_pred),\n",
        "             \"mase\": mase.numpy().sum() / len(y_pred),\n",
        "             \"mape\": mape.numpy().sum() / len(y_pred),\n",
        "             \"mse\": mse.numpy().sum() / len(y_pred),\n",
        "             \"rmse\": rmse.numpy().sum() / len(y_pred),\n",
        "             \"r2\": r2.sum() / len(y_pred)}\n",
        "\n",
        "  return metrics"
      ],
      "metadata": {
        "id": "xCXTzd6kXhwi"
      },
      "execution_count": 248,
      "outputs": []
    },
    {
      "cell_type": "code",
      "source": [
        "# This function evaluates models using different regression metrics\n",
        "\n",
        "def evaluate_preds(y_true, y_pred):\n",
        "  \"\"\"\n",
        "  Takes in model predictions and truth values and return dictionary of evaluation metrics\n",
        "  \"\"\"\n",
        "  # Make sure you're operating on float32 dtype\n",
        "  y_true = tf.cast(y_true, dtype = tf.float32)\n",
        "  y_pred = tf.cast(y_pred, dtype = tf.float32)\n",
        "\n",
        "  mae = tf.keras.metrics.mean_absolute_error(y_true, y_pred)\n",
        "  mse = tf.keras.metrics.mean_squared_error(y_true, y_pred)\n",
        "  rmse = tf.sqrt(mse)\n",
        "  mape = tf.keras.metrics.mean_absolute_percentage_error(y_true, y_pred)\n",
        "  mase = mean_absolute_scaled_error(y_true, y_pred)\n",
        "  r2 = r2_score(y_true, y_pred) # R-squared\n",
        "\n",
        "\n",
        "  metrics = {\"mae\": mae.numpy(),\n",
        "             \"mase\": mase.numpy(),\n",
        "             \"mape\": mape.numpy(),\n",
        "             \"mse\": mse.numpy(),\n",
        "             \"rmse\": rmse.numpy(),\n",
        "             \"r2\": r2}\n",
        "\n",
        "  return metrics"
      ],
      "metadata": {
        "id": "ciHE27xzswdi"
      },
      "execution_count": 249,
      "outputs": []
    },
    {
      "cell_type": "code",
      "source": [
        "# This function normalizes the data using min max scaling\n",
        "\n",
        "def normalize_series(data, min, max):\n",
        "    data = data - min\n",
        "    data = data / max\n",
        "    return data"
      ],
      "metadata": {
        "id": "4osYWtp3-tgf"
      },
      "execution_count": 250,
      "outputs": []
    },
    {
      "cell_type": "code",
      "source": [
        "# This function is used to map the time series dataset into windows of\n",
        "# features and respective targets, to prepare it for training and validation.\n",
        "# The first element of the first window will be the first element of the dataset\n",
        "\n",
        "def windowed_dataset(series, batch_size, n_past = 10, n_future = 10, shift = 1):\n",
        "  ds = tf.data.Dataset.from_tensor_slices(series)\n",
        "  ds = ds.window(size = n_past + n_future, shift = shift, drop_remainder = True)\n",
        "  ds = ds.flat_map(lambda w: w.batch(n_past + n_future))\n",
        "  ds = ds.map(lambda w: (w[: n_past], w[n_past :]))\n",
        "  return ds.batch(batch_size).prefetch(1)"
      ],
      "metadata": {
        "id": "-7EFO9d4CvIB"
      },
      "execution_count": 251,
      "outputs": []
    },
    {
      "cell_type": "markdown",
      "source": [
        "#### Import data"
      ],
      "metadata": {
        "id": "qeXn65kSYbqy"
      }
    },
    {
      "cell_type": "code",
      "source": [
        "df = pd.read_csv('/content/drive/MyDrive/brunel-term2/CS5812-project/Europe COVID statistics.csv', \n",
        "                 header = 0, \n",
        "                 parse_dates = [\"date\"], # parse the date column\n",
        "                 index_col = ['date']) # tell pandas that column 1 is a datetime\n",
        "df.head()"
      ],
      "metadata": {
        "colab": {
          "base_uri": "https://localhost:8080/",
          "height": 405
        },
        "id": "wO22FJuzYa6A",
        "outputId": "84be655d-e012-4f51-84e5-e23c087e08a7"
      },
      "execution_count": 252,
      "outputs": [
        {
          "output_type": "execute_result",
          "data": {
            "text/plain": [
              "            Unnamed: 0     X  country iso3c  confirmed  deaths  recovered  \\\n",
              "date                                                                        \n",
              "2020-01-22        1513  1513  Albania   ALB          0       0          0   \n",
              "2020-01-23        1514  1514  Albania   ALB          0       0          0   \n",
              "2020-01-24        1515  1515  Albania   ALB          0       0          0   \n",
              "2020-01-25        1516  1516  Albania   ALB          0       0          0   \n",
              "2020-01-26        1517  1517  Albania   ALB          0       0          0   \n",
              "\n",
              "            new.d  new.c  new.r  population  death_rate  recovery_rate  \\\n",
              "date                                                                     \n",
              "2020-01-22      0      0      0     2877800         0.0            0.0   \n",
              "2020-01-23      0      0      0     2877800         0.0            0.0   \n",
              "2020-01-24      0      0      0     2877800         0.0            0.0   \n",
              "2020-01-25      0      0      0     2877800         0.0            0.0   \n",
              "2020-01-26      0      0      0     2877800         0.0            0.0   \n",
              "\n",
              "            infection_rate continent  \n",
              "date                                  \n",
              "2020-01-22             0.0        EU  \n",
              "2020-01-23             0.0        EU  \n",
              "2020-01-24             0.0        EU  \n",
              "2020-01-25             0.0        EU  \n",
              "2020-01-26             0.0        EU  "
            ],
            "text/html": [
              "\n",
              "  <div id=\"df-dcbbc9b2-3b8e-4fd2-a63e-8db6da8920a3\">\n",
              "    <div class=\"colab-df-container\">\n",
              "      <div>\n",
              "<style scoped>\n",
              "    .dataframe tbody tr th:only-of-type {\n",
              "        vertical-align: middle;\n",
              "    }\n",
              "\n",
              "    .dataframe tbody tr th {\n",
              "        vertical-align: top;\n",
              "    }\n",
              "\n",
              "    .dataframe thead th {\n",
              "        text-align: right;\n",
              "    }\n",
              "</style>\n",
              "<table border=\"1\" class=\"dataframe\">\n",
              "  <thead>\n",
              "    <tr style=\"text-align: right;\">\n",
              "      <th></th>\n",
              "      <th>Unnamed: 0</th>\n",
              "      <th>X</th>\n",
              "      <th>country</th>\n",
              "      <th>iso3c</th>\n",
              "      <th>confirmed</th>\n",
              "      <th>deaths</th>\n",
              "      <th>recovered</th>\n",
              "      <th>new.d</th>\n",
              "      <th>new.c</th>\n",
              "      <th>new.r</th>\n",
              "      <th>population</th>\n",
              "      <th>death_rate</th>\n",
              "      <th>recovery_rate</th>\n",
              "      <th>infection_rate</th>\n",
              "      <th>continent</th>\n",
              "    </tr>\n",
              "    <tr>\n",
              "      <th>date</th>\n",
              "      <th></th>\n",
              "      <th></th>\n",
              "      <th></th>\n",
              "      <th></th>\n",
              "      <th></th>\n",
              "      <th></th>\n",
              "      <th></th>\n",
              "      <th></th>\n",
              "      <th></th>\n",
              "      <th></th>\n",
              "      <th></th>\n",
              "      <th></th>\n",
              "      <th></th>\n",
              "      <th></th>\n",
              "      <th></th>\n",
              "    </tr>\n",
              "  </thead>\n",
              "  <tbody>\n",
              "    <tr>\n",
              "      <th>2020-01-22</th>\n",
              "      <td>1513</td>\n",
              "      <td>1513</td>\n",
              "      <td>Albania</td>\n",
              "      <td>ALB</td>\n",
              "      <td>0</td>\n",
              "      <td>0</td>\n",
              "      <td>0</td>\n",
              "      <td>0</td>\n",
              "      <td>0</td>\n",
              "      <td>0</td>\n",
              "      <td>2877800</td>\n",
              "      <td>0.0</td>\n",
              "      <td>0.0</td>\n",
              "      <td>0.0</td>\n",
              "      <td>EU</td>\n",
              "    </tr>\n",
              "    <tr>\n",
              "      <th>2020-01-23</th>\n",
              "      <td>1514</td>\n",
              "      <td>1514</td>\n",
              "      <td>Albania</td>\n",
              "      <td>ALB</td>\n",
              "      <td>0</td>\n",
              "      <td>0</td>\n",
              "      <td>0</td>\n",
              "      <td>0</td>\n",
              "      <td>0</td>\n",
              "      <td>0</td>\n",
              "      <td>2877800</td>\n",
              "      <td>0.0</td>\n",
              "      <td>0.0</td>\n",
              "      <td>0.0</td>\n",
              "      <td>EU</td>\n",
              "    </tr>\n",
              "    <tr>\n",
              "      <th>2020-01-24</th>\n",
              "      <td>1515</td>\n",
              "      <td>1515</td>\n",
              "      <td>Albania</td>\n",
              "      <td>ALB</td>\n",
              "      <td>0</td>\n",
              "      <td>0</td>\n",
              "      <td>0</td>\n",
              "      <td>0</td>\n",
              "      <td>0</td>\n",
              "      <td>0</td>\n",
              "      <td>2877800</td>\n",
              "      <td>0.0</td>\n",
              "      <td>0.0</td>\n",
              "      <td>0.0</td>\n",
              "      <td>EU</td>\n",
              "    </tr>\n",
              "    <tr>\n",
              "      <th>2020-01-25</th>\n",
              "      <td>1516</td>\n",
              "      <td>1516</td>\n",
              "      <td>Albania</td>\n",
              "      <td>ALB</td>\n",
              "      <td>0</td>\n",
              "      <td>0</td>\n",
              "      <td>0</td>\n",
              "      <td>0</td>\n",
              "      <td>0</td>\n",
              "      <td>0</td>\n",
              "      <td>2877800</td>\n",
              "      <td>0.0</td>\n",
              "      <td>0.0</td>\n",
              "      <td>0.0</td>\n",
              "      <td>EU</td>\n",
              "    </tr>\n",
              "    <tr>\n",
              "      <th>2020-01-26</th>\n",
              "      <td>1517</td>\n",
              "      <td>1517</td>\n",
              "      <td>Albania</td>\n",
              "      <td>ALB</td>\n",
              "      <td>0</td>\n",
              "      <td>0</td>\n",
              "      <td>0</td>\n",
              "      <td>0</td>\n",
              "      <td>0</td>\n",
              "      <td>0</td>\n",
              "      <td>2877800</td>\n",
              "      <td>0.0</td>\n",
              "      <td>0.0</td>\n",
              "      <td>0.0</td>\n",
              "      <td>EU</td>\n",
              "    </tr>\n",
              "  </tbody>\n",
              "</table>\n",
              "</div>\n",
              "      <button class=\"colab-df-convert\" onclick=\"convertToInteractive('df-dcbbc9b2-3b8e-4fd2-a63e-8db6da8920a3')\"\n",
              "              title=\"Convert this dataframe to an interactive table.\"\n",
              "              style=\"display:none;\">\n",
              "        \n",
              "  <svg xmlns=\"http://www.w3.org/2000/svg\" height=\"24px\"viewBox=\"0 0 24 24\"\n",
              "       width=\"24px\">\n",
              "    <path d=\"M0 0h24v24H0V0z\" fill=\"none\"/>\n",
              "    <path d=\"M18.56 5.44l.94 2.06.94-2.06 2.06-.94-2.06-.94-.94-2.06-.94 2.06-2.06.94zm-11 1L8.5 8.5l.94-2.06 2.06-.94-2.06-.94L8.5 2.5l-.94 2.06-2.06.94zm10 10l.94 2.06.94-2.06 2.06-.94-2.06-.94-.94-2.06-.94 2.06-2.06.94z\"/><path d=\"M17.41 7.96l-1.37-1.37c-.4-.4-.92-.59-1.43-.59-.52 0-1.04.2-1.43.59L10.3 9.45l-7.72 7.72c-.78.78-.78 2.05 0 2.83L4 21.41c.39.39.9.59 1.41.59.51 0 1.02-.2 1.41-.59l7.78-7.78 2.81-2.81c.8-.78.8-2.07 0-2.86zM5.41 20L4 18.59l7.72-7.72 1.47 1.35L5.41 20z\"/>\n",
              "  </svg>\n",
              "      </button>\n",
              "      \n",
              "  <style>\n",
              "    .colab-df-container {\n",
              "      display:flex;\n",
              "      flex-wrap:wrap;\n",
              "      gap: 12px;\n",
              "    }\n",
              "\n",
              "    .colab-df-convert {\n",
              "      background-color: #E8F0FE;\n",
              "      border: none;\n",
              "      border-radius: 50%;\n",
              "      cursor: pointer;\n",
              "      display: none;\n",
              "      fill: #1967D2;\n",
              "      height: 32px;\n",
              "      padding: 0 0 0 0;\n",
              "      width: 32px;\n",
              "    }\n",
              "\n",
              "    .colab-df-convert:hover {\n",
              "      background-color: #E2EBFA;\n",
              "      box-shadow: 0px 1px 2px rgba(60, 64, 67, 0.3), 0px 1px 3px 1px rgba(60, 64, 67, 0.15);\n",
              "      fill: #174EA6;\n",
              "    }\n",
              "\n",
              "    [theme=dark] .colab-df-convert {\n",
              "      background-color: #3B4455;\n",
              "      fill: #D2E3FC;\n",
              "    }\n",
              "\n",
              "    [theme=dark] .colab-df-convert:hover {\n",
              "      background-color: #434B5C;\n",
              "      box-shadow: 0px 1px 3px 1px rgba(0, 0, 0, 0.15);\n",
              "      filter: drop-shadow(0px 1px 2px rgba(0, 0, 0, 0.3));\n",
              "      fill: #FFFFFF;\n",
              "    }\n",
              "  </style>\n",
              "\n",
              "      <script>\n",
              "        const buttonEl =\n",
              "          document.querySelector('#df-dcbbc9b2-3b8e-4fd2-a63e-8db6da8920a3 button.colab-df-convert');\n",
              "        buttonEl.style.display =\n",
              "          google.colab.kernel.accessAllowed ? 'block' : 'none';\n",
              "\n",
              "        async function convertToInteractive(key) {\n",
              "          const element = document.querySelector('#df-dcbbc9b2-3b8e-4fd2-a63e-8db6da8920a3');\n",
              "          const dataTable =\n",
              "            await google.colab.kernel.invokeFunction('convertToInteractive',\n",
              "                                                     [key], {});\n",
              "          if (!dataTable) return;\n",
              "\n",
              "          const docLinkHtml = 'Like what you see? Visit the ' +\n",
              "            '<a target=\"_blank\" href=https://colab.research.google.com/notebooks/data_table.ipynb>data table notebook</a>'\n",
              "            + ' to learn more about interactive tables.';\n",
              "          element.innerHTML = '';\n",
              "          dataTable['output_type'] = 'display_data';\n",
              "          await google.colab.output.renderOutput(dataTable, element);\n",
              "          const docLink = document.createElement('div');\n",
              "          docLink.innerHTML = docLinkHtml;\n",
              "          element.appendChild(docLink);\n",
              "        }\n",
              "      </script>\n",
              "    </div>\n",
              "  </div>\n",
              "  "
            ]
          },
          "metadata": {},
          "execution_count": 252
        }
      ]
    },
    {
      "cell_type": "code",
      "source": [
        "# Double check for missing values\n",
        "df.isna().sum()"
      ],
      "metadata": {
        "colab": {
          "base_uri": "https://localhost:8080/"
        },
        "id": "ygeUKWtO2Iuq",
        "outputId": "b46df014-9211-4649-9a68-803fa7c8d585"
      },
      "execution_count": 253,
      "outputs": [
        {
          "output_type": "execute_result",
          "data": {
            "text/plain": [
              "Unnamed: 0        0\n",
              "X                 0\n",
              "country           0\n",
              "iso3c             0\n",
              "confirmed         0\n",
              "deaths            0\n",
              "recovered         0\n",
              "new.d             0\n",
              "new.c             0\n",
              "new.r             0\n",
              "population        0\n",
              "death_rate        0\n",
              "recovery_rate     0\n",
              "infection_rate    0\n",
              "continent         0\n",
              "dtype: int64"
            ]
          },
          "metadata": {},
          "execution_count": 253
        }
      ]
    },
    {
      "cell_type": "code",
      "source": [
        "# Drop unnecessary columns \n",
        "df = df.drop(columns = {\"X\", \"continent\", \"Unnamed: 0\", \"iso3c\"}) \n",
        "\n",
        "# Show first few rows\n",
        "df.head()"
      ],
      "metadata": {
        "colab": {
          "base_uri": "https://localhost:8080/",
          "height": 388
        },
        "id": "PmSY5-wsYy0j",
        "outputId": "485f0645-fb93-41fd-ab4a-6296c99c456e"
      },
      "execution_count": 254,
      "outputs": [
        {
          "output_type": "execute_result",
          "data": {
            "text/plain": [
              "            country  confirmed  deaths  recovered  new.d  new.c  new.r  \\\n",
              "date                                                                     \n",
              "2020-01-22  Albania          0       0          0      0      0      0   \n",
              "2020-01-23  Albania          0       0          0      0      0      0   \n",
              "2020-01-24  Albania          0       0          0      0      0      0   \n",
              "2020-01-25  Albania          0       0          0      0      0      0   \n",
              "2020-01-26  Albania          0       0          0      0      0      0   \n",
              "\n",
              "            population  death_rate  recovery_rate  infection_rate  \n",
              "date                                                               \n",
              "2020-01-22     2877800         0.0            0.0             0.0  \n",
              "2020-01-23     2877800         0.0            0.0             0.0  \n",
              "2020-01-24     2877800         0.0            0.0             0.0  \n",
              "2020-01-25     2877800         0.0            0.0             0.0  \n",
              "2020-01-26     2877800         0.0            0.0             0.0  "
            ],
            "text/html": [
              "\n",
              "  <div id=\"df-0b70e448-284a-4705-89dc-3d0c913c31ae\">\n",
              "    <div class=\"colab-df-container\">\n",
              "      <div>\n",
              "<style scoped>\n",
              "    .dataframe tbody tr th:only-of-type {\n",
              "        vertical-align: middle;\n",
              "    }\n",
              "\n",
              "    .dataframe tbody tr th {\n",
              "        vertical-align: top;\n",
              "    }\n",
              "\n",
              "    .dataframe thead th {\n",
              "        text-align: right;\n",
              "    }\n",
              "</style>\n",
              "<table border=\"1\" class=\"dataframe\">\n",
              "  <thead>\n",
              "    <tr style=\"text-align: right;\">\n",
              "      <th></th>\n",
              "      <th>country</th>\n",
              "      <th>confirmed</th>\n",
              "      <th>deaths</th>\n",
              "      <th>recovered</th>\n",
              "      <th>new.d</th>\n",
              "      <th>new.c</th>\n",
              "      <th>new.r</th>\n",
              "      <th>population</th>\n",
              "      <th>death_rate</th>\n",
              "      <th>recovery_rate</th>\n",
              "      <th>infection_rate</th>\n",
              "    </tr>\n",
              "    <tr>\n",
              "      <th>date</th>\n",
              "      <th></th>\n",
              "      <th></th>\n",
              "      <th></th>\n",
              "      <th></th>\n",
              "      <th></th>\n",
              "      <th></th>\n",
              "      <th></th>\n",
              "      <th></th>\n",
              "      <th></th>\n",
              "      <th></th>\n",
              "      <th></th>\n",
              "    </tr>\n",
              "  </thead>\n",
              "  <tbody>\n",
              "    <tr>\n",
              "      <th>2020-01-22</th>\n",
              "      <td>Albania</td>\n",
              "      <td>0</td>\n",
              "      <td>0</td>\n",
              "      <td>0</td>\n",
              "      <td>0</td>\n",
              "      <td>0</td>\n",
              "      <td>0</td>\n",
              "      <td>2877800</td>\n",
              "      <td>0.0</td>\n",
              "      <td>0.0</td>\n",
              "      <td>0.0</td>\n",
              "    </tr>\n",
              "    <tr>\n",
              "      <th>2020-01-23</th>\n",
              "      <td>Albania</td>\n",
              "      <td>0</td>\n",
              "      <td>0</td>\n",
              "      <td>0</td>\n",
              "      <td>0</td>\n",
              "      <td>0</td>\n",
              "      <td>0</td>\n",
              "      <td>2877800</td>\n",
              "      <td>0.0</td>\n",
              "      <td>0.0</td>\n",
              "      <td>0.0</td>\n",
              "    </tr>\n",
              "    <tr>\n",
              "      <th>2020-01-24</th>\n",
              "      <td>Albania</td>\n",
              "      <td>0</td>\n",
              "      <td>0</td>\n",
              "      <td>0</td>\n",
              "      <td>0</td>\n",
              "      <td>0</td>\n",
              "      <td>0</td>\n",
              "      <td>2877800</td>\n",
              "      <td>0.0</td>\n",
              "      <td>0.0</td>\n",
              "      <td>0.0</td>\n",
              "    </tr>\n",
              "    <tr>\n",
              "      <th>2020-01-25</th>\n",
              "      <td>Albania</td>\n",
              "      <td>0</td>\n",
              "      <td>0</td>\n",
              "      <td>0</td>\n",
              "      <td>0</td>\n",
              "      <td>0</td>\n",
              "      <td>0</td>\n",
              "      <td>2877800</td>\n",
              "      <td>0.0</td>\n",
              "      <td>0.0</td>\n",
              "      <td>0.0</td>\n",
              "    </tr>\n",
              "    <tr>\n",
              "      <th>2020-01-26</th>\n",
              "      <td>Albania</td>\n",
              "      <td>0</td>\n",
              "      <td>0</td>\n",
              "      <td>0</td>\n",
              "      <td>0</td>\n",
              "      <td>0</td>\n",
              "      <td>0</td>\n",
              "      <td>2877800</td>\n",
              "      <td>0.0</td>\n",
              "      <td>0.0</td>\n",
              "      <td>0.0</td>\n",
              "    </tr>\n",
              "  </tbody>\n",
              "</table>\n",
              "</div>\n",
              "      <button class=\"colab-df-convert\" onclick=\"convertToInteractive('df-0b70e448-284a-4705-89dc-3d0c913c31ae')\"\n",
              "              title=\"Convert this dataframe to an interactive table.\"\n",
              "              style=\"display:none;\">\n",
              "        \n",
              "  <svg xmlns=\"http://www.w3.org/2000/svg\" height=\"24px\"viewBox=\"0 0 24 24\"\n",
              "       width=\"24px\">\n",
              "    <path d=\"M0 0h24v24H0V0z\" fill=\"none\"/>\n",
              "    <path d=\"M18.56 5.44l.94 2.06.94-2.06 2.06-.94-2.06-.94-.94-2.06-.94 2.06-2.06.94zm-11 1L8.5 8.5l.94-2.06 2.06-.94-2.06-.94L8.5 2.5l-.94 2.06-2.06.94zm10 10l.94 2.06.94-2.06 2.06-.94-2.06-.94-.94-2.06-.94 2.06-2.06.94z\"/><path d=\"M17.41 7.96l-1.37-1.37c-.4-.4-.92-.59-1.43-.59-.52 0-1.04.2-1.43.59L10.3 9.45l-7.72 7.72c-.78.78-.78 2.05 0 2.83L4 21.41c.39.39.9.59 1.41.59.51 0 1.02-.2 1.41-.59l7.78-7.78 2.81-2.81c.8-.78.8-2.07 0-2.86zM5.41 20L4 18.59l7.72-7.72 1.47 1.35L5.41 20z\"/>\n",
              "  </svg>\n",
              "      </button>\n",
              "      \n",
              "  <style>\n",
              "    .colab-df-container {\n",
              "      display:flex;\n",
              "      flex-wrap:wrap;\n",
              "      gap: 12px;\n",
              "    }\n",
              "\n",
              "    .colab-df-convert {\n",
              "      background-color: #E8F0FE;\n",
              "      border: none;\n",
              "      border-radius: 50%;\n",
              "      cursor: pointer;\n",
              "      display: none;\n",
              "      fill: #1967D2;\n",
              "      height: 32px;\n",
              "      padding: 0 0 0 0;\n",
              "      width: 32px;\n",
              "    }\n",
              "\n",
              "    .colab-df-convert:hover {\n",
              "      background-color: #E2EBFA;\n",
              "      box-shadow: 0px 1px 2px rgba(60, 64, 67, 0.3), 0px 1px 3px 1px rgba(60, 64, 67, 0.15);\n",
              "      fill: #174EA6;\n",
              "    }\n",
              "\n",
              "    [theme=dark] .colab-df-convert {\n",
              "      background-color: #3B4455;\n",
              "      fill: #D2E3FC;\n",
              "    }\n",
              "\n",
              "    [theme=dark] .colab-df-convert:hover {\n",
              "      background-color: #434B5C;\n",
              "      box-shadow: 0px 1px 3px 1px rgba(0, 0, 0, 0.15);\n",
              "      filter: drop-shadow(0px 1px 2px rgba(0, 0, 0, 0.3));\n",
              "      fill: #FFFFFF;\n",
              "    }\n",
              "  </style>\n",
              "\n",
              "      <script>\n",
              "        const buttonEl =\n",
              "          document.querySelector('#df-0b70e448-284a-4705-89dc-3d0c913c31ae button.colab-df-convert');\n",
              "        buttonEl.style.display =\n",
              "          google.colab.kernel.accessAllowed ? 'block' : 'none';\n",
              "\n",
              "        async function convertToInteractive(key) {\n",
              "          const element = document.querySelector('#df-0b70e448-284a-4705-89dc-3d0c913c31ae');\n",
              "          const dataTable =\n",
              "            await google.colab.kernel.invokeFunction('convertToInteractive',\n",
              "                                                     [key], {});\n",
              "          if (!dataTable) return;\n",
              "\n",
              "          const docLinkHtml = 'Like what you see? Visit the ' +\n",
              "            '<a target=\"_blank\" href=https://colab.research.google.com/notebooks/data_table.ipynb>data table notebook</a>'\n",
              "            + ' to learn more about interactive tables.';\n",
              "          element.innerHTML = '';\n",
              "          dataTable['output_type'] = 'display_data';\n",
              "          await google.colab.output.renderOutput(dataTable, element);\n",
              "          const docLink = document.createElement('div');\n",
              "          docLink.innerHTML = docLinkHtml;\n",
              "          element.appendChild(docLink);\n",
              "        }\n",
              "      </script>\n",
              "    </div>\n",
              "  </div>\n",
              "  "
            ]
          },
          "metadata": {},
          "execution_count": 254
        }
      ]
    },
    {
      "cell_type": "code",
      "source": [
        "df.shape"
      ],
      "metadata": {
        "colab": {
          "base_uri": "https://localhost:8080/"
        },
        "id": "5V6irQC_gGE-",
        "outputId": "9c760217-9cea-4dff-fbc6-1f9309f2737f"
      },
      "execution_count": 255,
      "outputs": [
        {
          "output_type": "execute_result",
          "data": {
            "text/plain": [
              "(25245, 11)"
            ]
          },
          "metadata": {},
          "execution_count": 255
        }
      ]
    },
    {
      "cell_type": "code",
      "source": [
        "df.columns"
      ],
      "metadata": {
        "colab": {
          "base_uri": "https://localhost:8080/"
        },
        "id": "kOrh1rugY7ZZ",
        "outputId": "b68b8de8-d37b-4557-cc46-e717ce40a2e2"
      },
      "execution_count": 256,
      "outputs": [
        {
          "output_type": "execute_result",
          "data": {
            "text/plain": [
              "Index(['country', 'confirmed', 'deaths', 'recovered', 'new.d', 'new.c',\n",
              "       'new.r', 'population', 'death_rate', 'recovery_rate', 'infection_rate'],\n",
              "      dtype='object')"
            ]
          },
          "metadata": {},
          "execution_count": 256
        }
      ]
    },
    {
      "cell_type": "code",
      "source": [
        "df.dtypes"
      ],
      "metadata": {
        "colab": {
          "base_uri": "https://localhost:8080/"
        },
        "id": "xC2e2Ig4Y_fz",
        "outputId": "eddddfd5-e604-47b5-b84e-bb5adf42fbc1"
      },
      "execution_count": 257,
      "outputs": [
        {
          "output_type": "execute_result",
          "data": {
            "text/plain": [
              "country            object\n",
              "confirmed           int64\n",
              "deaths              int64\n",
              "recovered           int64\n",
              "new.d               int64\n",
              "new.c               int64\n",
              "new.r               int64\n",
              "population          int64\n",
              "death_rate        float64\n",
              "recovery_rate     float64\n",
              "infection_rate    float64\n",
              "dtype: object"
            ]
          },
          "metadata": {},
          "execution_count": 257
        }
      ]
    },
    {
      "cell_type": "code",
      "source": [
        "df.info()"
      ],
      "metadata": {
        "colab": {
          "base_uri": "https://localhost:8080/"
        },
        "id": "NSQwuDZwZB9c",
        "outputId": "e4efb581-9c91-4ed8-c32c-56aa4fae885e"
      },
      "execution_count": 258,
      "outputs": [
        {
          "output_type": "stream",
          "name": "stdout",
          "text": [
            "<class 'pandas.core.frame.DataFrame'>\n",
            "DatetimeIndex: 25245 entries, 2020-01-22 to 2021-08-04\n",
            "Data columns (total 11 columns):\n",
            " #   Column          Non-Null Count  Dtype  \n",
            "---  ------          --------------  -----  \n",
            " 0   country         25245 non-null  object \n",
            " 1   confirmed       25245 non-null  int64  \n",
            " 2   deaths          25245 non-null  int64  \n",
            " 3   recovered       25245 non-null  int64  \n",
            " 4   new.d           25245 non-null  int64  \n",
            " 5   new.c           25245 non-null  int64  \n",
            " 6   new.r           25245 non-null  int64  \n",
            " 7   population      25245 non-null  int64  \n",
            " 8   death_rate      25245 non-null  float64\n",
            " 9   recovery_rate   25245 non-null  float64\n",
            " 10  infection_rate  25245 non-null  float64\n",
            "dtypes: float64(3), int64(7), object(1)\n",
            "memory usage: 2.3+ MB\n"
          ]
        }
      ]
    },
    {
      "cell_type": "code",
      "source": [
        "df.describe()"
      ],
      "metadata": {
        "colab": {
          "base_uri": "https://localhost:8080/",
          "height": 364
        },
        "id": "B5pjU2zFZANC",
        "outputId": "8fcba24c-a808-49af-f830-eb7e7f8bfa3e"
      },
      "execution_count": 259,
      "outputs": [
        {
          "output_type": "execute_result",
          "data": {
            "text/plain": [
              "          confirmed         deaths     recovered         new.d          new.c  \\\n",
              "count  2.524500e+04   25245.000000  2.524500e+04  25245.000000   25245.000000   \n",
              "mean   4.191158e+05   10491.489443  2.143770e+05     45.210814    2102.775837   \n",
              "std    9.632410e+05   23673.105152  6.279375e+05    125.863878    5656.284670   \n",
              "min    0.000000e+00       0.000000  0.000000e+00      0.000000       0.000000   \n",
              "25%    2.268000e+03      48.000000  5.680000e+02      0.000000       9.000000   \n",
              "50%    4.217700e+04     792.000000  1.259600e+04      3.000000     195.000000   \n",
              "75%    2.781770e+05    8014.000000  1.290970e+05     22.000000    1179.000000   \n",
              "max    6.274006e+06  159032.000000  5.609682e+06   1826.000000  117902.000000   \n",
              "\n",
              "              new.r    population    death_rate  recovery_rate  infection_rate  \n",
              "count  25245.000000  2.524500e+04  25245.000000   25245.000000    25245.000000  \n",
              "mean    1112.584472  1.661772e+07      0.265331      10.516986       14.838694  \n",
              "std     3538.515947  2.818662e+07      0.548707      34.310814       26.260382  \n",
              "min        0.000000  8.090000e+02      0.000000       0.000000        0.000000  \n",
              "25%        0.000000  1.886202e+06      0.000000       0.000000        0.452961  \n",
              "50%       17.000000  5.540718e+06      0.043175       0.514273        4.261016  \n",
              "75%      443.000000  1.070898e+07      0.297474       8.900110       18.374819  \n",
              "max    70690.000000  1.459345e+08     17.679298    2883.561752      865.265760  "
            ],
            "text/html": [
              "\n",
              "  <div id=\"df-2a59442c-7de1-4a3e-9236-1d1d0a275f68\">\n",
              "    <div class=\"colab-df-container\">\n",
              "      <div>\n",
              "<style scoped>\n",
              "    .dataframe tbody tr th:only-of-type {\n",
              "        vertical-align: middle;\n",
              "    }\n",
              "\n",
              "    .dataframe tbody tr th {\n",
              "        vertical-align: top;\n",
              "    }\n",
              "\n",
              "    .dataframe thead th {\n",
              "        text-align: right;\n",
              "    }\n",
              "</style>\n",
              "<table border=\"1\" class=\"dataframe\">\n",
              "  <thead>\n",
              "    <tr style=\"text-align: right;\">\n",
              "      <th></th>\n",
              "      <th>confirmed</th>\n",
              "      <th>deaths</th>\n",
              "      <th>recovered</th>\n",
              "      <th>new.d</th>\n",
              "      <th>new.c</th>\n",
              "      <th>new.r</th>\n",
              "      <th>population</th>\n",
              "      <th>death_rate</th>\n",
              "      <th>recovery_rate</th>\n",
              "      <th>infection_rate</th>\n",
              "    </tr>\n",
              "  </thead>\n",
              "  <tbody>\n",
              "    <tr>\n",
              "      <th>count</th>\n",
              "      <td>2.524500e+04</td>\n",
              "      <td>25245.000000</td>\n",
              "      <td>2.524500e+04</td>\n",
              "      <td>25245.000000</td>\n",
              "      <td>25245.000000</td>\n",
              "      <td>25245.000000</td>\n",
              "      <td>2.524500e+04</td>\n",
              "      <td>25245.000000</td>\n",
              "      <td>25245.000000</td>\n",
              "      <td>25245.000000</td>\n",
              "    </tr>\n",
              "    <tr>\n",
              "      <th>mean</th>\n",
              "      <td>4.191158e+05</td>\n",
              "      <td>10491.489443</td>\n",
              "      <td>2.143770e+05</td>\n",
              "      <td>45.210814</td>\n",
              "      <td>2102.775837</td>\n",
              "      <td>1112.584472</td>\n",
              "      <td>1.661772e+07</td>\n",
              "      <td>0.265331</td>\n",
              "      <td>10.516986</td>\n",
              "      <td>14.838694</td>\n",
              "    </tr>\n",
              "    <tr>\n",
              "      <th>std</th>\n",
              "      <td>9.632410e+05</td>\n",
              "      <td>23673.105152</td>\n",
              "      <td>6.279375e+05</td>\n",
              "      <td>125.863878</td>\n",
              "      <td>5656.284670</td>\n",
              "      <td>3538.515947</td>\n",
              "      <td>2.818662e+07</td>\n",
              "      <td>0.548707</td>\n",
              "      <td>34.310814</td>\n",
              "      <td>26.260382</td>\n",
              "    </tr>\n",
              "    <tr>\n",
              "      <th>min</th>\n",
              "      <td>0.000000e+00</td>\n",
              "      <td>0.000000</td>\n",
              "      <td>0.000000e+00</td>\n",
              "      <td>0.000000</td>\n",
              "      <td>0.000000</td>\n",
              "      <td>0.000000</td>\n",
              "      <td>8.090000e+02</td>\n",
              "      <td>0.000000</td>\n",
              "      <td>0.000000</td>\n",
              "      <td>0.000000</td>\n",
              "    </tr>\n",
              "    <tr>\n",
              "      <th>25%</th>\n",
              "      <td>2.268000e+03</td>\n",
              "      <td>48.000000</td>\n",
              "      <td>5.680000e+02</td>\n",
              "      <td>0.000000</td>\n",
              "      <td>9.000000</td>\n",
              "      <td>0.000000</td>\n",
              "      <td>1.886202e+06</td>\n",
              "      <td>0.000000</td>\n",
              "      <td>0.000000</td>\n",
              "      <td>0.452961</td>\n",
              "    </tr>\n",
              "    <tr>\n",
              "      <th>50%</th>\n",
              "      <td>4.217700e+04</td>\n",
              "      <td>792.000000</td>\n",
              "      <td>1.259600e+04</td>\n",
              "      <td>3.000000</td>\n",
              "      <td>195.000000</td>\n",
              "      <td>17.000000</td>\n",
              "      <td>5.540718e+06</td>\n",
              "      <td>0.043175</td>\n",
              "      <td>0.514273</td>\n",
              "      <td>4.261016</td>\n",
              "    </tr>\n",
              "    <tr>\n",
              "      <th>75%</th>\n",
              "      <td>2.781770e+05</td>\n",
              "      <td>8014.000000</td>\n",
              "      <td>1.290970e+05</td>\n",
              "      <td>22.000000</td>\n",
              "      <td>1179.000000</td>\n",
              "      <td>443.000000</td>\n",
              "      <td>1.070898e+07</td>\n",
              "      <td>0.297474</td>\n",
              "      <td>8.900110</td>\n",
              "      <td>18.374819</td>\n",
              "    </tr>\n",
              "    <tr>\n",
              "      <th>max</th>\n",
              "      <td>6.274006e+06</td>\n",
              "      <td>159032.000000</td>\n",
              "      <td>5.609682e+06</td>\n",
              "      <td>1826.000000</td>\n",
              "      <td>117902.000000</td>\n",
              "      <td>70690.000000</td>\n",
              "      <td>1.459345e+08</td>\n",
              "      <td>17.679298</td>\n",
              "      <td>2883.561752</td>\n",
              "      <td>865.265760</td>\n",
              "    </tr>\n",
              "  </tbody>\n",
              "</table>\n",
              "</div>\n",
              "      <button class=\"colab-df-convert\" onclick=\"convertToInteractive('df-2a59442c-7de1-4a3e-9236-1d1d0a275f68')\"\n",
              "              title=\"Convert this dataframe to an interactive table.\"\n",
              "              style=\"display:none;\">\n",
              "        \n",
              "  <svg xmlns=\"http://www.w3.org/2000/svg\" height=\"24px\"viewBox=\"0 0 24 24\"\n",
              "       width=\"24px\">\n",
              "    <path d=\"M0 0h24v24H0V0z\" fill=\"none\"/>\n",
              "    <path d=\"M18.56 5.44l.94 2.06.94-2.06 2.06-.94-2.06-.94-.94-2.06-.94 2.06-2.06.94zm-11 1L8.5 8.5l.94-2.06 2.06-.94-2.06-.94L8.5 2.5l-.94 2.06-2.06.94zm10 10l.94 2.06.94-2.06 2.06-.94-2.06-.94-.94-2.06-.94 2.06-2.06.94z\"/><path d=\"M17.41 7.96l-1.37-1.37c-.4-.4-.92-.59-1.43-.59-.52 0-1.04.2-1.43.59L10.3 9.45l-7.72 7.72c-.78.78-.78 2.05 0 2.83L4 21.41c.39.39.9.59 1.41.59.51 0 1.02-.2 1.41-.59l7.78-7.78 2.81-2.81c.8-.78.8-2.07 0-2.86zM5.41 20L4 18.59l7.72-7.72 1.47 1.35L5.41 20z\"/>\n",
              "  </svg>\n",
              "      </button>\n",
              "      \n",
              "  <style>\n",
              "    .colab-df-container {\n",
              "      display:flex;\n",
              "      flex-wrap:wrap;\n",
              "      gap: 12px;\n",
              "    }\n",
              "\n",
              "    .colab-df-convert {\n",
              "      background-color: #E8F0FE;\n",
              "      border: none;\n",
              "      border-radius: 50%;\n",
              "      cursor: pointer;\n",
              "      display: none;\n",
              "      fill: #1967D2;\n",
              "      height: 32px;\n",
              "      padding: 0 0 0 0;\n",
              "      width: 32px;\n",
              "    }\n",
              "\n",
              "    .colab-df-convert:hover {\n",
              "      background-color: #E2EBFA;\n",
              "      box-shadow: 0px 1px 2px rgba(60, 64, 67, 0.3), 0px 1px 3px 1px rgba(60, 64, 67, 0.15);\n",
              "      fill: #174EA6;\n",
              "    }\n",
              "\n",
              "    [theme=dark] .colab-df-convert {\n",
              "      background-color: #3B4455;\n",
              "      fill: #D2E3FC;\n",
              "    }\n",
              "\n",
              "    [theme=dark] .colab-df-convert:hover {\n",
              "      background-color: #434B5C;\n",
              "      box-shadow: 0px 1px 3px 1px rgba(0, 0, 0, 0.15);\n",
              "      filter: drop-shadow(0px 1px 2px rgba(0, 0, 0, 0.3));\n",
              "      fill: #FFFFFF;\n",
              "    }\n",
              "  </style>\n",
              "\n",
              "      <script>\n",
              "        const buttonEl =\n",
              "          document.querySelector('#df-2a59442c-7de1-4a3e-9236-1d1d0a275f68 button.colab-df-convert');\n",
              "        buttonEl.style.display =\n",
              "          google.colab.kernel.accessAllowed ? 'block' : 'none';\n",
              "\n",
              "        async function convertToInteractive(key) {\n",
              "          const element = document.querySelector('#df-2a59442c-7de1-4a3e-9236-1d1d0a275f68');\n",
              "          const dataTable =\n",
              "            await google.colab.kernel.invokeFunction('convertToInteractive',\n",
              "                                                     [key], {});\n",
              "          if (!dataTable) return;\n",
              "\n",
              "          const docLinkHtml = 'Like what you see? Visit the ' +\n",
              "            '<a target=\"_blank\" href=https://colab.research.google.com/notebooks/data_table.ipynb>data table notebook</a>'\n",
              "            + ' to learn more about interactive tables.';\n",
              "          element.innerHTML = '';\n",
              "          dataTable['output_type'] = 'display_data';\n",
              "          await google.colab.output.renderOutput(dataTable, element);\n",
              "          const docLink = document.createElement('div');\n",
              "          docLink.innerHTML = docLinkHtml;\n",
              "          element.appendChild(docLink);\n",
              "        }\n",
              "      </script>\n",
              "    </div>\n",
              "  </div>\n",
              "  "
            ]
          },
          "metadata": {},
          "execution_count": 259
        }
      ]
    },
    {
      "cell_type": "code",
      "source": [
        "country_names = df.country.unique()\n",
        "\n",
        "country_names, len(country_names)"
      ],
      "metadata": {
        "colab": {
          "base_uri": "https://localhost:8080/"
        },
        "id": "_hOPsNyXgyf7",
        "outputId": "7d869ea3-5e77-4831-ede4-89efff2ada97"
      },
      "execution_count": 260,
      "outputs": [
        {
          "output_type": "execute_result",
          "data": {
            "text/plain": [
              "(array(['Albania', 'Andorra', 'Austria', 'Belgium', 'Bulgaria',\n",
              "        'Bosnia and Herzegovina', 'Belarus', 'Switzerland', 'Cyprus',\n",
              "        'Czechia', 'Germany', 'Denmark', 'Spain', 'Estonia', 'Finland',\n",
              "        'France', 'United Kingdom', 'Greece', 'Croatia', 'Hungary',\n",
              "        'Ireland', 'Iceland', 'Italy', 'Liechtenstein', 'Lithuania',\n",
              "        'Luxembourg', 'Latvia', 'Monaco', 'Moldova', 'North Macedonia',\n",
              "        'Malta', 'Montenegro', 'Netherlands', 'Norway', 'Poland',\n",
              "        'Portugal', 'Romania', 'Russia', 'San Marino', 'Serbia',\n",
              "        'Slovakia', 'Slovenia', 'Sweden', 'Ukraine', 'Holy See'],\n",
              "       dtype=object),\n",
              " 45)"
            ]
          },
          "metadata": {},
          "execution_count": 260
        }
      ]
    },
    {
      "cell_type": "markdown",
      "source": [
        "### Dataset conversion\n",
        "\n"
      ],
      "metadata": {
        "id": "F-NJ2FMfPOq7"
      }
    },
    {
      "cell_type": "code",
      "source": [
        "# Create a data frame dictionary to store your data frames\n",
        "df_dict = {elem : pd.DataFrame() for elem in country_names}\n",
        "\n",
        "for key in df_dict.keys():\n",
        "    df_dict[key] = df[:][df.country == key]"
      ],
      "metadata": {
        "id": "B9nEQvvDhG3l"
      },
      "execution_count": 261,
      "outputs": []
    },
    {
      "cell_type": "code",
      "source": [
        "df_dict.keys() # dictionary with 45 countries (45 dictionaries with 561 rows x 11 columns)"
      ],
      "metadata": {
        "colab": {
          "base_uri": "https://localhost:8080/"
        },
        "id": "hLDY0nKzidgi",
        "outputId": "d6efdc72-1906-4156-82c4-6bd3a9c2a4cc"
      },
      "execution_count": 262,
      "outputs": [
        {
          "output_type": "execute_result",
          "data": {
            "text/plain": [
              "dict_keys(['Albania', 'Andorra', 'Austria', 'Belgium', 'Bulgaria', 'Bosnia and Herzegovina', 'Belarus', 'Switzerland', 'Cyprus', 'Czechia', 'Germany', 'Denmark', 'Spain', 'Estonia', 'Finland', 'France', 'United Kingdom', 'Greece', 'Croatia', 'Hungary', 'Ireland', 'Iceland', 'Italy', 'Liechtenstein', 'Lithuania', 'Luxembourg', 'Latvia', 'Monaco', 'Moldova', 'North Macedonia', 'Malta', 'Montenegro', 'Netherlands', 'Norway', 'Poland', 'Portugal', 'Romania', 'Russia', 'San Marino', 'Serbia', 'Slovakia', 'Slovenia', 'Sweden', 'Ukraine', 'Holy See'])"
            ]
          },
          "metadata": {},
          "execution_count": 262
        }
      ]
    },
    {
      "cell_type": "code",
      "source": [
        "countries = list(df_dict)\n",
        "\n",
        "# Convert dictionaries to DataFrame format\n",
        "for country in countries:\n",
        "  df_dict[country] = pd.DataFrame(df_dict[country])"
      ],
      "metadata": {
        "id": "7JbPNsAWULvr"
      },
      "execution_count": 263,
      "outputs": []
    },
    {
      "cell_type": "code",
      "source": [
        "# Access a country from the dictionary\n",
        "df_dict['Albania']['new.d'].info()"
      ],
      "metadata": {
        "colab": {
          "base_uri": "https://localhost:8080/"
        },
        "id": "AboWZzW2X1yN",
        "outputId": "04b12193-61e4-435d-c223-6ad606601b02"
      },
      "execution_count": 264,
      "outputs": [
        {
          "output_type": "stream",
          "name": "stdout",
          "text": [
            "<class 'pandas.core.series.Series'>\n",
            "DatetimeIndex: 561 entries, 2020-01-22 to 2021-08-04\n",
            "Series name: new.d\n",
            "Non-Null Count  Dtype\n",
            "--------------  -----\n",
            "561 non-null    int64\n",
            "dtypes: int64(1)\n",
            "memory usage: 8.8 KB\n"
          ]
        }
      ]
    },
    {
      "cell_type": "code",
      "source": [
        "df_dict['Albania']"
      ],
      "metadata": {
        "colab": {
          "base_uri": "https://localhost:8080/",
          "height": 692
        },
        "id": "QqyFWPzydF5B",
        "outputId": "1213afae-6778-4fb2-bed7-d0e44d3c6393"
      },
      "execution_count": 265,
      "outputs": [
        {
          "output_type": "execute_result",
          "data": {
            "text/plain": [
              "            country  confirmed  deaths  recovered  new.d  new.c  new.r  \\\n",
              "date                                                                     \n",
              "2020-01-22  Albania          0       0          0      0      0      0   \n",
              "2020-01-23  Albania          0       0          0      0      0      0   \n",
              "2020-01-24  Albania          0       0          0      0      0      0   \n",
              "2020-01-25  Albania          0       0          0      0      0      0   \n",
              "2020-01-26  Albania          0       0          0      0      0      0   \n",
              "...             ...        ...     ...        ...    ...    ...    ...   \n",
              "2021-07-31  Albania     133081    2457     130222      0     45     17   \n",
              "2021-08-01  Albania     133121    2457     130243      0     40     21   \n",
              "2021-08-02  Albania     133146    2457     130256      0     25     13   \n",
              "2021-08-03  Albania     133211    2457     130291      0     65     35   \n",
              "2021-08-04  Albania     133310    2457     130314      0     99     23   \n",
              "\n",
              "            population  death_rate  recovery_rate  infection_rate  \n",
              "date                                                               \n",
              "2020-01-22     2877800         0.0       0.000000        0.000000  \n",
              "2020-01-23     2877800         0.0       0.000000        0.000000  \n",
              "2020-01-24     2877800         0.0       0.000000        0.000000  \n",
              "2020-01-25     2877800         0.0       0.000000        0.000000  \n",
              "2020-01-26     2877800         0.0       0.000000        0.000000  \n",
              "...                ...         ...            ...             ...  \n",
              "2021-07-31     2877800         0.0       0.590729        1.563694  \n",
              "2021-08-01     2877800         0.0       0.729724        1.389951  \n",
              "2021-08-02     2877800         0.0       0.451734        0.868719  \n",
              "2021-08-03     2877800         0.0       1.216207        2.258670  \n",
              "2021-08-04     2877800         0.0       0.799222        3.440128  \n",
              "\n",
              "[561 rows x 11 columns]"
            ],
            "text/html": [
              "\n",
              "  <div id=\"df-2fa6eefd-f9b4-42af-8007-e885b650b3eb\">\n",
              "    <div class=\"colab-df-container\">\n",
              "      <div>\n",
              "<style scoped>\n",
              "    .dataframe tbody tr th:only-of-type {\n",
              "        vertical-align: middle;\n",
              "    }\n",
              "\n",
              "    .dataframe tbody tr th {\n",
              "        vertical-align: top;\n",
              "    }\n",
              "\n",
              "    .dataframe thead th {\n",
              "        text-align: right;\n",
              "    }\n",
              "</style>\n",
              "<table border=\"1\" class=\"dataframe\">\n",
              "  <thead>\n",
              "    <tr style=\"text-align: right;\">\n",
              "      <th></th>\n",
              "      <th>country</th>\n",
              "      <th>confirmed</th>\n",
              "      <th>deaths</th>\n",
              "      <th>recovered</th>\n",
              "      <th>new.d</th>\n",
              "      <th>new.c</th>\n",
              "      <th>new.r</th>\n",
              "      <th>population</th>\n",
              "      <th>death_rate</th>\n",
              "      <th>recovery_rate</th>\n",
              "      <th>infection_rate</th>\n",
              "    </tr>\n",
              "    <tr>\n",
              "      <th>date</th>\n",
              "      <th></th>\n",
              "      <th></th>\n",
              "      <th></th>\n",
              "      <th></th>\n",
              "      <th></th>\n",
              "      <th></th>\n",
              "      <th></th>\n",
              "      <th></th>\n",
              "      <th></th>\n",
              "      <th></th>\n",
              "      <th></th>\n",
              "    </tr>\n",
              "  </thead>\n",
              "  <tbody>\n",
              "    <tr>\n",
              "      <th>2020-01-22</th>\n",
              "      <td>Albania</td>\n",
              "      <td>0</td>\n",
              "      <td>0</td>\n",
              "      <td>0</td>\n",
              "      <td>0</td>\n",
              "      <td>0</td>\n",
              "      <td>0</td>\n",
              "      <td>2877800</td>\n",
              "      <td>0.0</td>\n",
              "      <td>0.000000</td>\n",
              "      <td>0.000000</td>\n",
              "    </tr>\n",
              "    <tr>\n",
              "      <th>2020-01-23</th>\n",
              "      <td>Albania</td>\n",
              "      <td>0</td>\n",
              "      <td>0</td>\n",
              "      <td>0</td>\n",
              "      <td>0</td>\n",
              "      <td>0</td>\n",
              "      <td>0</td>\n",
              "      <td>2877800</td>\n",
              "      <td>0.0</td>\n",
              "      <td>0.000000</td>\n",
              "      <td>0.000000</td>\n",
              "    </tr>\n",
              "    <tr>\n",
              "      <th>2020-01-24</th>\n",
              "      <td>Albania</td>\n",
              "      <td>0</td>\n",
              "      <td>0</td>\n",
              "      <td>0</td>\n",
              "      <td>0</td>\n",
              "      <td>0</td>\n",
              "      <td>0</td>\n",
              "      <td>2877800</td>\n",
              "      <td>0.0</td>\n",
              "      <td>0.000000</td>\n",
              "      <td>0.000000</td>\n",
              "    </tr>\n",
              "    <tr>\n",
              "      <th>2020-01-25</th>\n",
              "      <td>Albania</td>\n",
              "      <td>0</td>\n",
              "      <td>0</td>\n",
              "      <td>0</td>\n",
              "      <td>0</td>\n",
              "      <td>0</td>\n",
              "      <td>0</td>\n",
              "      <td>2877800</td>\n",
              "      <td>0.0</td>\n",
              "      <td>0.000000</td>\n",
              "      <td>0.000000</td>\n",
              "    </tr>\n",
              "    <tr>\n",
              "      <th>2020-01-26</th>\n",
              "      <td>Albania</td>\n",
              "      <td>0</td>\n",
              "      <td>0</td>\n",
              "      <td>0</td>\n",
              "      <td>0</td>\n",
              "      <td>0</td>\n",
              "      <td>0</td>\n",
              "      <td>2877800</td>\n",
              "      <td>0.0</td>\n",
              "      <td>0.000000</td>\n",
              "      <td>0.000000</td>\n",
              "    </tr>\n",
              "    <tr>\n",
              "      <th>...</th>\n",
              "      <td>...</td>\n",
              "      <td>...</td>\n",
              "      <td>...</td>\n",
              "      <td>...</td>\n",
              "      <td>...</td>\n",
              "      <td>...</td>\n",
              "      <td>...</td>\n",
              "      <td>...</td>\n",
              "      <td>...</td>\n",
              "      <td>...</td>\n",
              "      <td>...</td>\n",
              "    </tr>\n",
              "    <tr>\n",
              "      <th>2021-07-31</th>\n",
              "      <td>Albania</td>\n",
              "      <td>133081</td>\n",
              "      <td>2457</td>\n",
              "      <td>130222</td>\n",
              "      <td>0</td>\n",
              "      <td>45</td>\n",
              "      <td>17</td>\n",
              "      <td>2877800</td>\n",
              "      <td>0.0</td>\n",
              "      <td>0.590729</td>\n",
              "      <td>1.563694</td>\n",
              "    </tr>\n",
              "    <tr>\n",
              "      <th>2021-08-01</th>\n",
              "      <td>Albania</td>\n",
              "      <td>133121</td>\n",
              "      <td>2457</td>\n",
              "      <td>130243</td>\n",
              "      <td>0</td>\n",
              "      <td>40</td>\n",
              "      <td>21</td>\n",
              "      <td>2877800</td>\n",
              "      <td>0.0</td>\n",
              "      <td>0.729724</td>\n",
              "      <td>1.389951</td>\n",
              "    </tr>\n",
              "    <tr>\n",
              "      <th>2021-08-02</th>\n",
              "      <td>Albania</td>\n",
              "      <td>133146</td>\n",
              "      <td>2457</td>\n",
              "      <td>130256</td>\n",
              "      <td>0</td>\n",
              "      <td>25</td>\n",
              "      <td>13</td>\n",
              "      <td>2877800</td>\n",
              "      <td>0.0</td>\n",
              "      <td>0.451734</td>\n",
              "      <td>0.868719</td>\n",
              "    </tr>\n",
              "    <tr>\n",
              "      <th>2021-08-03</th>\n",
              "      <td>Albania</td>\n",
              "      <td>133211</td>\n",
              "      <td>2457</td>\n",
              "      <td>130291</td>\n",
              "      <td>0</td>\n",
              "      <td>65</td>\n",
              "      <td>35</td>\n",
              "      <td>2877800</td>\n",
              "      <td>0.0</td>\n",
              "      <td>1.216207</td>\n",
              "      <td>2.258670</td>\n",
              "    </tr>\n",
              "    <tr>\n",
              "      <th>2021-08-04</th>\n",
              "      <td>Albania</td>\n",
              "      <td>133310</td>\n",
              "      <td>2457</td>\n",
              "      <td>130314</td>\n",
              "      <td>0</td>\n",
              "      <td>99</td>\n",
              "      <td>23</td>\n",
              "      <td>2877800</td>\n",
              "      <td>0.0</td>\n",
              "      <td>0.799222</td>\n",
              "      <td>3.440128</td>\n",
              "    </tr>\n",
              "  </tbody>\n",
              "</table>\n",
              "<p>561 rows × 11 columns</p>\n",
              "</div>\n",
              "      <button class=\"colab-df-convert\" onclick=\"convertToInteractive('df-2fa6eefd-f9b4-42af-8007-e885b650b3eb')\"\n",
              "              title=\"Convert this dataframe to an interactive table.\"\n",
              "              style=\"display:none;\">\n",
              "        \n",
              "  <svg xmlns=\"http://www.w3.org/2000/svg\" height=\"24px\"viewBox=\"0 0 24 24\"\n",
              "       width=\"24px\">\n",
              "    <path d=\"M0 0h24v24H0V0z\" fill=\"none\"/>\n",
              "    <path d=\"M18.56 5.44l.94 2.06.94-2.06 2.06-.94-2.06-.94-.94-2.06-.94 2.06-2.06.94zm-11 1L8.5 8.5l.94-2.06 2.06-.94-2.06-.94L8.5 2.5l-.94 2.06-2.06.94zm10 10l.94 2.06.94-2.06 2.06-.94-2.06-.94-.94-2.06-.94 2.06-2.06.94z\"/><path d=\"M17.41 7.96l-1.37-1.37c-.4-.4-.92-.59-1.43-.59-.52 0-1.04.2-1.43.59L10.3 9.45l-7.72 7.72c-.78.78-.78 2.05 0 2.83L4 21.41c.39.39.9.59 1.41.59.51 0 1.02-.2 1.41-.59l7.78-7.78 2.81-2.81c.8-.78.8-2.07 0-2.86zM5.41 20L4 18.59l7.72-7.72 1.47 1.35L5.41 20z\"/>\n",
              "  </svg>\n",
              "      </button>\n",
              "      \n",
              "  <style>\n",
              "    .colab-df-container {\n",
              "      display:flex;\n",
              "      flex-wrap:wrap;\n",
              "      gap: 12px;\n",
              "    }\n",
              "\n",
              "    .colab-df-convert {\n",
              "      background-color: #E8F0FE;\n",
              "      border: none;\n",
              "      border-radius: 50%;\n",
              "      cursor: pointer;\n",
              "      display: none;\n",
              "      fill: #1967D2;\n",
              "      height: 32px;\n",
              "      padding: 0 0 0 0;\n",
              "      width: 32px;\n",
              "    }\n",
              "\n",
              "    .colab-df-convert:hover {\n",
              "      background-color: #E2EBFA;\n",
              "      box-shadow: 0px 1px 2px rgba(60, 64, 67, 0.3), 0px 1px 3px 1px rgba(60, 64, 67, 0.15);\n",
              "      fill: #174EA6;\n",
              "    }\n",
              "\n",
              "    [theme=dark] .colab-df-convert {\n",
              "      background-color: #3B4455;\n",
              "      fill: #D2E3FC;\n",
              "    }\n",
              "\n",
              "    [theme=dark] .colab-df-convert:hover {\n",
              "      background-color: #434B5C;\n",
              "      box-shadow: 0px 1px 3px 1px rgba(0, 0, 0, 0.15);\n",
              "      filter: drop-shadow(0px 1px 2px rgba(0, 0, 0, 0.3));\n",
              "      fill: #FFFFFF;\n",
              "    }\n",
              "  </style>\n",
              "\n",
              "      <script>\n",
              "        const buttonEl =\n",
              "          document.querySelector('#df-2fa6eefd-f9b4-42af-8007-e885b650b3eb button.colab-df-convert');\n",
              "        buttonEl.style.display =\n",
              "          google.colab.kernel.accessAllowed ? 'block' : 'none';\n",
              "\n",
              "        async function convertToInteractive(key) {\n",
              "          const element = document.querySelector('#df-2fa6eefd-f9b4-42af-8007-e885b650b3eb');\n",
              "          const dataTable =\n",
              "            await google.colab.kernel.invokeFunction('convertToInteractive',\n",
              "                                                     [key], {});\n",
              "          if (!dataTable) return;\n",
              "\n",
              "          const docLinkHtml = 'Like what you see? Visit the ' +\n",
              "            '<a target=\"_blank\" href=https://colab.research.google.com/notebooks/data_table.ipynb>data table notebook</a>'\n",
              "            + ' to learn more about interactive tables.';\n",
              "          element.innerHTML = '';\n",
              "          dataTable['output_type'] = 'display_data';\n",
              "          await google.colab.output.renderOutput(dataTable, element);\n",
              "          const docLink = document.createElement('div');\n",
              "          docLink.innerHTML = docLinkHtml;\n",
              "          element.appendChild(docLink);\n",
              "        }\n",
              "      </script>\n",
              "    </div>\n",
              "  </div>\n",
              "  "
            ]
          },
          "metadata": {},
          "execution_count": 265
        }
      ]
    },
    {
      "cell_type": "markdown",
      "source": [
        "## Machine Learning Method: Polynomial Regression\n",
        "\n",
        "In order to perform prediction using machine learning method, I have used **polynomial regression**, which is a form of a linear regression and a special case of multiple linear regression. \n",
        "\n",
        "Polynomial regression is a reasonably simple method that tries to estimate the relationship between the independent and dependent variables as an nth degree polynomial. \n",
        "\n",
        "The con of this method is that it is highly sensitive to the outliers, however, it has been checked during data cleaning and preparation that no outliers are present in out dataset, hence this method was possible to use. The dataset have been split into training and testing set with an 80/20 split, and scaled \n",
        "by using `fit_transform()` function so that it could be eligible for fitting the polynomial regression model. \n",
        "\n",
        "While fitting the model I have tried different configurations, that is using different variables as predictors, and trying different polynomial degree values for fitting the data. \n",
        "\n",
        "Furthermore, since it has been noticed during performing Exploratory Data Analysis that the variable `new.d` has higher correlation values with `new.c` and `new.r`, they have been used as predictors in the model."
      ],
      "metadata": {
        "id": "0bO5G_KbQiIZ"
      }
    },
    {
      "cell_type": "markdown",
      "source": [
        "### Data preparation"
      ],
      "metadata": {
        "id": "mzrAuEmpdps1"
      }
    },
    {
      "cell_type": "code",
      "source": [
        "ml_df = pd.DataFrame()\n",
        "ml_df.index = df_dict['Italy']['new.d'].index\n",
        "ml_df['new.d'] = df_dict['Italy']['new.d'].values"
      ],
      "metadata": {
        "id": "axs8MqaE39dN"
      },
      "execution_count": 266,
      "outputs": []
    },
    {
      "cell_type": "code",
      "source": [
        "ml_df['new.d'] = 0\n",
        "ml_df['new.d'].astype(np.int64)\n",
        "ml_df['new.d'].describe()"
      ],
      "metadata": {
        "colab": {
          "base_uri": "https://localhost:8080/"
        },
        "id": "jgBhGhKj5un_",
        "outputId": "102f6a46-4025-4e0c-b25e-e8001ea6aad5"
      },
      "execution_count": 267,
      "outputs": [
        {
          "output_type": "execute_result",
          "data": {
            "text/plain": [
              "count    561.0\n",
              "mean       0.0\n",
              "std        0.0\n",
              "min        0.0\n",
              "25%        0.0\n",
              "50%        0.0\n",
              "75%        0.0\n",
              "max        0.0\n",
              "Name: new.d, dtype: float64"
            ]
          },
          "metadata": {},
          "execution_count": 267
        }
      ]
    },
    {
      "cell_type": "code",
      "source": [
        "ml_df['new.c'] = 0\n",
        "ml_df['new.c'].astype(np.int64)\n",
        "ml_df['new.c'].describe()"
      ],
      "metadata": {
        "colab": {
          "base_uri": "https://localhost:8080/"
        },
        "id": "ohLzHVt653lW",
        "outputId": "9ccf9b0b-ea84-4c1e-cd45-47493ac7d1d6"
      },
      "execution_count": 268,
      "outputs": [
        {
          "output_type": "execute_result",
          "data": {
            "text/plain": [
              "count    561.0\n",
              "mean       0.0\n",
              "std        0.0\n",
              "min        0.0\n",
              "25%        0.0\n",
              "50%        0.0\n",
              "75%        0.0\n",
              "max        0.0\n",
              "Name: new.c, dtype: float64"
            ]
          },
          "metadata": {},
          "execution_count": 268
        }
      ]
    },
    {
      "cell_type": "code",
      "source": [
        "ml_df['new.r'] = 0\n",
        "ml_df['new.r'].astype(np.int64)\n",
        "ml_df['new.r'].describe()"
      ],
      "metadata": {
        "colab": {
          "base_uri": "https://localhost:8080/"
        },
        "id": "OgUO7j2M58W2",
        "outputId": "e81d4db1-c188-44e8-b451-df84d75f4b93"
      },
      "execution_count": 269,
      "outputs": [
        {
          "output_type": "execute_result",
          "data": {
            "text/plain": [
              "count    561.0\n",
              "mean       0.0\n",
              "std        0.0\n",
              "min        0.0\n",
              "25%        0.0\n",
              "50%        0.0\n",
              "75%        0.0\n",
              "max        0.0\n",
              "Name: new.r, dtype: float64"
            ]
          },
          "metadata": {},
          "execution_count": 269
        }
      ]
    },
    {
      "cell_type": "code",
      "source": [
        "# Sum up daily deaths from all the countries\n",
        "for country in countries:\n",
        "  ml_df['new.d'] += df_dict[country]['new.d']\n",
        "  ml_df['new.c'] += df_dict[country]['new.c']\n",
        "  ml_df['new.r'] += df_dict[country]['new.r']"
      ],
      "metadata": {
        "id": "-xkgrP0Z6gXP"
      },
      "execution_count": 270,
      "outputs": []
    },
    {
      "cell_type": "code",
      "source": [
        "ml_df.tail(20)"
      ],
      "metadata": {
        "colab": {
          "base_uri": "https://localhost:8080/",
          "height": 708
        },
        "id": "1To0BR_m6q_8",
        "outputId": "3e9c9e83-a738-4db1-b1a0-35e2a3fed788"
      },
      "execution_count": 271,
      "outputs": [
        {
          "output_type": "execute_result",
          "data": {
            "text/plain": [
              "            new.d   new.c  new.r\n",
              "date                            \n",
              "2021-07-16   1002  151468  30762\n",
              "2021-07-17    925  120298  31020\n",
              "2021-07-18    857  110754  24196\n",
              "2021-07-19    876  157303  25936\n",
              "2021-07-20   1077  145270  33016\n",
              "2021-07-21   1045  149599  33441\n",
              "2021-07-22   1075  148843  32882\n",
              "2021-07-23   1031  140275  32149\n",
              "2021-07-24   1030  108622  32834\n",
              "2021-07-25    873   89054  25159\n",
              "2021-07-26    956  139538  25345\n",
              "2021-07-27   1150  128426  36234\n",
              "2021-07-28   1279  134794  38553\n",
              "2021-07-29   1075  138582  32279\n",
              "2021-07-30   1123  133432  34641\n",
              "2021-07-31   1027   99093  31634\n",
              "2021-08-01    936   87095  25460\n",
              "2021-08-02   1128  134035  24193\n",
              "2021-08-03   1295  117607  37367\n",
              "2021-08-04   1233  137150  34143"
            ],
            "text/html": [
              "\n",
              "  <div id=\"df-b60cc5ea-b7ea-4f4c-a8c4-cf9fe5b19213\">\n",
              "    <div class=\"colab-df-container\">\n",
              "      <div>\n",
              "<style scoped>\n",
              "    .dataframe tbody tr th:only-of-type {\n",
              "        vertical-align: middle;\n",
              "    }\n",
              "\n",
              "    .dataframe tbody tr th {\n",
              "        vertical-align: top;\n",
              "    }\n",
              "\n",
              "    .dataframe thead th {\n",
              "        text-align: right;\n",
              "    }\n",
              "</style>\n",
              "<table border=\"1\" class=\"dataframe\">\n",
              "  <thead>\n",
              "    <tr style=\"text-align: right;\">\n",
              "      <th></th>\n",
              "      <th>new.d</th>\n",
              "      <th>new.c</th>\n",
              "      <th>new.r</th>\n",
              "    </tr>\n",
              "    <tr>\n",
              "      <th>date</th>\n",
              "      <th></th>\n",
              "      <th></th>\n",
              "      <th></th>\n",
              "    </tr>\n",
              "  </thead>\n",
              "  <tbody>\n",
              "    <tr>\n",
              "      <th>2021-07-16</th>\n",
              "      <td>1002</td>\n",
              "      <td>151468</td>\n",
              "      <td>30762</td>\n",
              "    </tr>\n",
              "    <tr>\n",
              "      <th>2021-07-17</th>\n",
              "      <td>925</td>\n",
              "      <td>120298</td>\n",
              "      <td>31020</td>\n",
              "    </tr>\n",
              "    <tr>\n",
              "      <th>2021-07-18</th>\n",
              "      <td>857</td>\n",
              "      <td>110754</td>\n",
              "      <td>24196</td>\n",
              "    </tr>\n",
              "    <tr>\n",
              "      <th>2021-07-19</th>\n",
              "      <td>876</td>\n",
              "      <td>157303</td>\n",
              "      <td>25936</td>\n",
              "    </tr>\n",
              "    <tr>\n",
              "      <th>2021-07-20</th>\n",
              "      <td>1077</td>\n",
              "      <td>145270</td>\n",
              "      <td>33016</td>\n",
              "    </tr>\n",
              "    <tr>\n",
              "      <th>2021-07-21</th>\n",
              "      <td>1045</td>\n",
              "      <td>149599</td>\n",
              "      <td>33441</td>\n",
              "    </tr>\n",
              "    <tr>\n",
              "      <th>2021-07-22</th>\n",
              "      <td>1075</td>\n",
              "      <td>148843</td>\n",
              "      <td>32882</td>\n",
              "    </tr>\n",
              "    <tr>\n",
              "      <th>2021-07-23</th>\n",
              "      <td>1031</td>\n",
              "      <td>140275</td>\n",
              "      <td>32149</td>\n",
              "    </tr>\n",
              "    <tr>\n",
              "      <th>2021-07-24</th>\n",
              "      <td>1030</td>\n",
              "      <td>108622</td>\n",
              "      <td>32834</td>\n",
              "    </tr>\n",
              "    <tr>\n",
              "      <th>2021-07-25</th>\n",
              "      <td>873</td>\n",
              "      <td>89054</td>\n",
              "      <td>25159</td>\n",
              "    </tr>\n",
              "    <tr>\n",
              "      <th>2021-07-26</th>\n",
              "      <td>956</td>\n",
              "      <td>139538</td>\n",
              "      <td>25345</td>\n",
              "    </tr>\n",
              "    <tr>\n",
              "      <th>2021-07-27</th>\n",
              "      <td>1150</td>\n",
              "      <td>128426</td>\n",
              "      <td>36234</td>\n",
              "    </tr>\n",
              "    <tr>\n",
              "      <th>2021-07-28</th>\n",
              "      <td>1279</td>\n",
              "      <td>134794</td>\n",
              "      <td>38553</td>\n",
              "    </tr>\n",
              "    <tr>\n",
              "      <th>2021-07-29</th>\n",
              "      <td>1075</td>\n",
              "      <td>138582</td>\n",
              "      <td>32279</td>\n",
              "    </tr>\n",
              "    <tr>\n",
              "      <th>2021-07-30</th>\n",
              "      <td>1123</td>\n",
              "      <td>133432</td>\n",
              "      <td>34641</td>\n",
              "    </tr>\n",
              "    <tr>\n",
              "      <th>2021-07-31</th>\n",
              "      <td>1027</td>\n",
              "      <td>99093</td>\n",
              "      <td>31634</td>\n",
              "    </tr>\n",
              "    <tr>\n",
              "      <th>2021-08-01</th>\n",
              "      <td>936</td>\n",
              "      <td>87095</td>\n",
              "      <td>25460</td>\n",
              "    </tr>\n",
              "    <tr>\n",
              "      <th>2021-08-02</th>\n",
              "      <td>1128</td>\n",
              "      <td>134035</td>\n",
              "      <td>24193</td>\n",
              "    </tr>\n",
              "    <tr>\n",
              "      <th>2021-08-03</th>\n",
              "      <td>1295</td>\n",
              "      <td>117607</td>\n",
              "      <td>37367</td>\n",
              "    </tr>\n",
              "    <tr>\n",
              "      <th>2021-08-04</th>\n",
              "      <td>1233</td>\n",
              "      <td>137150</td>\n",
              "      <td>34143</td>\n",
              "    </tr>\n",
              "  </tbody>\n",
              "</table>\n",
              "</div>\n",
              "      <button class=\"colab-df-convert\" onclick=\"convertToInteractive('df-b60cc5ea-b7ea-4f4c-a8c4-cf9fe5b19213')\"\n",
              "              title=\"Convert this dataframe to an interactive table.\"\n",
              "              style=\"display:none;\">\n",
              "        \n",
              "  <svg xmlns=\"http://www.w3.org/2000/svg\" height=\"24px\"viewBox=\"0 0 24 24\"\n",
              "       width=\"24px\">\n",
              "    <path d=\"M0 0h24v24H0V0z\" fill=\"none\"/>\n",
              "    <path d=\"M18.56 5.44l.94 2.06.94-2.06 2.06-.94-2.06-.94-.94-2.06-.94 2.06-2.06.94zm-11 1L8.5 8.5l.94-2.06 2.06-.94-2.06-.94L8.5 2.5l-.94 2.06-2.06.94zm10 10l.94 2.06.94-2.06 2.06-.94-2.06-.94-.94-2.06-.94 2.06-2.06.94z\"/><path d=\"M17.41 7.96l-1.37-1.37c-.4-.4-.92-.59-1.43-.59-.52 0-1.04.2-1.43.59L10.3 9.45l-7.72 7.72c-.78.78-.78 2.05 0 2.83L4 21.41c.39.39.9.59 1.41.59.51 0 1.02-.2 1.41-.59l7.78-7.78 2.81-2.81c.8-.78.8-2.07 0-2.86zM5.41 20L4 18.59l7.72-7.72 1.47 1.35L5.41 20z\"/>\n",
              "  </svg>\n",
              "      </button>\n",
              "      \n",
              "  <style>\n",
              "    .colab-df-container {\n",
              "      display:flex;\n",
              "      flex-wrap:wrap;\n",
              "      gap: 12px;\n",
              "    }\n",
              "\n",
              "    .colab-df-convert {\n",
              "      background-color: #E8F0FE;\n",
              "      border: none;\n",
              "      border-radius: 50%;\n",
              "      cursor: pointer;\n",
              "      display: none;\n",
              "      fill: #1967D2;\n",
              "      height: 32px;\n",
              "      padding: 0 0 0 0;\n",
              "      width: 32px;\n",
              "    }\n",
              "\n",
              "    .colab-df-convert:hover {\n",
              "      background-color: #E2EBFA;\n",
              "      box-shadow: 0px 1px 2px rgba(60, 64, 67, 0.3), 0px 1px 3px 1px rgba(60, 64, 67, 0.15);\n",
              "      fill: #174EA6;\n",
              "    }\n",
              "\n",
              "    [theme=dark] .colab-df-convert {\n",
              "      background-color: #3B4455;\n",
              "      fill: #D2E3FC;\n",
              "    }\n",
              "\n",
              "    [theme=dark] .colab-df-convert:hover {\n",
              "      background-color: #434B5C;\n",
              "      box-shadow: 0px 1px 3px 1px rgba(0, 0, 0, 0.15);\n",
              "      filter: drop-shadow(0px 1px 2px rgba(0, 0, 0, 0.3));\n",
              "      fill: #FFFFFF;\n",
              "    }\n",
              "  </style>\n",
              "\n",
              "      <script>\n",
              "        const buttonEl =\n",
              "          document.querySelector('#df-b60cc5ea-b7ea-4f4c-a8c4-cf9fe5b19213 button.colab-df-convert');\n",
              "        buttonEl.style.display =\n",
              "          google.colab.kernel.accessAllowed ? 'block' : 'none';\n",
              "\n",
              "        async function convertToInteractive(key) {\n",
              "          const element = document.querySelector('#df-b60cc5ea-b7ea-4f4c-a8c4-cf9fe5b19213');\n",
              "          const dataTable =\n",
              "            await google.colab.kernel.invokeFunction('convertToInteractive',\n",
              "                                                     [key], {});\n",
              "          if (!dataTable) return;\n",
              "\n",
              "          const docLinkHtml = 'Like what you see? Visit the ' +\n",
              "            '<a target=\"_blank\" href=https://colab.research.google.com/notebooks/data_table.ipynb>data table notebook</a>'\n",
              "            + ' to learn more about interactive tables.';\n",
              "          element.innerHTML = '';\n",
              "          dataTable['output_type'] = 'display_data';\n",
              "          await google.colab.output.renderOutput(dataTable, element);\n",
              "          const docLink = document.createElement('div');\n",
              "          docLink.innerHTML = docLinkHtml;\n",
              "          element.appendChild(docLink);\n",
              "        }\n",
              "      </script>\n",
              "    </div>\n",
              "  </div>\n",
              "  "
            ]
          },
          "metadata": {},
          "execution_count": 271
        }
      ]
    },
    {
      "cell_type": "code",
      "source": [
        "# Get the data for the model\n",
        "\n",
        "X = ml_df.iloc[:, 1:3] # variables that are correlated the most with new.d\n",
        "y = ml_df.iloc[:, 0]\n",
        "\n",
        "X.shape, y.shape"
      ],
      "metadata": {
        "colab": {
          "base_uri": "https://localhost:8080/"
        },
        "id": "-0MLpZd1BAn1",
        "outputId": "03802d15-91dc-4172-f5e9-6ab8281fc764"
      },
      "execution_count": 272,
      "outputs": [
        {
          "output_type": "execute_result",
          "data": {
            "text/plain": [
              "((561, 2), (561,))"
            ]
          },
          "metadata": {},
          "execution_count": 272
        }
      ]
    },
    {
      "cell_type": "code",
      "source": [
        "# Split the data into training and testing set\n",
        "X_train, X_test, y_train, y_test = train_test_split(X, y, test_size = 0.2, shuffle = False)\n",
        "\n",
        "X_train.shape, X_test.shape, y_train.shape, y_test.shape"
      ],
      "metadata": {
        "colab": {
          "base_uri": "https://localhost:8080/"
        },
        "id": "CRhxnkY4BszI",
        "outputId": "e8736730-c9df-4865-c071-ee87d0fd9e1f"
      },
      "execution_count": 273,
      "outputs": [
        {
          "output_type": "execute_result",
          "data": {
            "text/plain": [
              "((448, 2), (113, 2), (448,), (113,))"
            ]
          },
          "metadata": {},
          "execution_count": 273
        }
      ]
    },
    {
      "cell_type": "markdown",
      "source": [
        "### Apply Polynomial Regression model to the data\n"
      ],
      "metadata": {
        "id": "j8U_USJs3f2K"
      }
    },
    {
      "cell_type": "code",
      "source": [
        "# Apply polynomial regression model\n",
        "poly = PolynomialFeatures(degree = 2)\n",
        "\n",
        "# Transform the data\n",
        "X_poly_train = poly.fit_transform(X_train)\n",
        "X_poly_test = poly.fit_transform(X_test)\n",
        "\n",
        "# Fit the model\n",
        "poly.fit(X_poly_train, y_train)\n",
        "ml_model = LinearRegression()\n",
        "\n",
        "ml_model.fit(X_poly_train, y_train)"
      ],
      "metadata": {
        "colab": {
          "base_uri": "https://localhost:8080/",
          "height": 75
        },
        "id": "mZOBjVrlCXjD",
        "outputId": "d2a2cd6f-4377-48ae-9a35-646855b8bc84"
      },
      "execution_count": 274,
      "outputs": [
        {
          "output_type": "execute_result",
          "data": {
            "text/plain": [
              "LinearRegression()"
            ],
            "text/html": [
              "<style>#sk-container-id-9 {color: black;background-color: white;}#sk-container-id-9 pre{padding: 0;}#sk-container-id-9 div.sk-toggleable {background-color: white;}#sk-container-id-9 label.sk-toggleable__label {cursor: pointer;display: block;width: 100%;margin-bottom: 0;padding: 0.3em;box-sizing: border-box;text-align: center;}#sk-container-id-9 label.sk-toggleable__label-arrow:before {content: \"▸\";float: left;margin-right: 0.25em;color: #696969;}#sk-container-id-9 label.sk-toggleable__label-arrow:hover:before {color: black;}#sk-container-id-9 div.sk-estimator:hover label.sk-toggleable__label-arrow:before {color: black;}#sk-container-id-9 div.sk-toggleable__content {max-height: 0;max-width: 0;overflow: hidden;text-align: left;background-color: #f0f8ff;}#sk-container-id-9 div.sk-toggleable__content pre {margin: 0.2em;color: black;border-radius: 0.25em;background-color: #f0f8ff;}#sk-container-id-9 input.sk-toggleable__control:checked~div.sk-toggleable__content {max-height: 200px;max-width: 100%;overflow: auto;}#sk-container-id-9 input.sk-toggleable__control:checked~label.sk-toggleable__label-arrow:before {content: \"▾\";}#sk-container-id-9 div.sk-estimator input.sk-toggleable__control:checked~label.sk-toggleable__label {background-color: #d4ebff;}#sk-container-id-9 div.sk-label input.sk-toggleable__control:checked~label.sk-toggleable__label {background-color: #d4ebff;}#sk-container-id-9 input.sk-hidden--visually {border: 0;clip: rect(1px 1px 1px 1px);clip: rect(1px, 1px, 1px, 1px);height: 1px;margin: -1px;overflow: hidden;padding: 0;position: absolute;width: 1px;}#sk-container-id-9 div.sk-estimator {font-family: monospace;background-color: #f0f8ff;border: 1px dotted black;border-radius: 0.25em;box-sizing: border-box;margin-bottom: 0.5em;}#sk-container-id-9 div.sk-estimator:hover {background-color: #d4ebff;}#sk-container-id-9 div.sk-parallel-item::after {content: \"\";width: 100%;border-bottom: 1px solid gray;flex-grow: 1;}#sk-container-id-9 div.sk-label:hover label.sk-toggleable__label {background-color: #d4ebff;}#sk-container-id-9 div.sk-serial::before {content: \"\";position: absolute;border-left: 1px solid gray;box-sizing: border-box;top: 0;bottom: 0;left: 50%;z-index: 0;}#sk-container-id-9 div.sk-serial {display: flex;flex-direction: column;align-items: center;background-color: white;padding-right: 0.2em;padding-left: 0.2em;position: relative;}#sk-container-id-9 div.sk-item {position: relative;z-index: 1;}#sk-container-id-9 div.sk-parallel {display: flex;align-items: stretch;justify-content: center;background-color: white;position: relative;}#sk-container-id-9 div.sk-item::before, #sk-container-id-9 div.sk-parallel-item::before {content: \"\";position: absolute;border-left: 1px solid gray;box-sizing: border-box;top: 0;bottom: 0;left: 50%;z-index: -1;}#sk-container-id-9 div.sk-parallel-item {display: flex;flex-direction: column;z-index: 1;position: relative;background-color: white;}#sk-container-id-9 div.sk-parallel-item:first-child::after {align-self: flex-end;width: 50%;}#sk-container-id-9 div.sk-parallel-item:last-child::after {align-self: flex-start;width: 50%;}#sk-container-id-9 div.sk-parallel-item:only-child::after {width: 0;}#sk-container-id-9 div.sk-dashed-wrapped {border: 1px dashed gray;margin: 0 0.4em 0.5em 0.4em;box-sizing: border-box;padding-bottom: 0.4em;background-color: white;}#sk-container-id-9 div.sk-label label {font-family: monospace;font-weight: bold;display: inline-block;line-height: 1.2em;}#sk-container-id-9 div.sk-label-container {text-align: center;}#sk-container-id-9 div.sk-container {/* jupyter's `normalize.less` sets `[hidden] { display: none; }` but bootstrap.min.css set `[hidden] { display: none !important; }` so we also need the `!important` here to be able to override the default hidden behavior on the sphinx rendered scikit-learn.org. See: https://github.com/scikit-learn/scikit-learn/issues/21755 */display: inline-block !important;position: relative;}#sk-container-id-9 div.sk-text-repr-fallback {display: none;}</style><div id=\"sk-container-id-9\" class=\"sk-top-container\"><div class=\"sk-text-repr-fallback\"><pre>LinearRegression()</pre><b>In a Jupyter environment, please rerun this cell to show the HTML representation or trust the notebook. <br />On GitHub, the HTML representation is unable to render, please try loading this page with nbviewer.org.</b></div><div class=\"sk-container\" hidden><div class=\"sk-item\"><div class=\"sk-estimator sk-toggleable\"><input class=\"sk-toggleable__control sk-hidden--visually\" id=\"sk-estimator-id-9\" type=\"checkbox\" checked><label for=\"sk-estimator-id-9\" class=\"sk-toggleable__label sk-toggleable__label-arrow\">LinearRegression</label><div class=\"sk-toggleable__content\"><pre>LinearRegression()</pre></div></div></div></div></div>"
            ]
          },
          "metadata": {},
          "execution_count": 274
        }
      ]
    },
    {
      "cell_type": "code",
      "source": [
        "# Creating a data frame of test predictions vs actuals\n",
        "poly_pred = ml_model.predict(X_poly_test)\n",
        "ml_test_results = pd.DataFrame(data ={'Test Predictions': poly_pred, 'Actuals': y_test})\n",
        "ml_test_results"
      ],
      "metadata": {
        "colab": {
          "base_uri": "https://localhost:8080/",
          "height": 455
        },
        "id": "HeL0KH32CbVk",
        "outputId": "6d76e195-28ba-49d3-e1dc-b55541dbff28"
      },
      "execution_count": 275,
      "outputs": [
        {
          "output_type": "execute_result",
          "data": {
            "text/plain": [
              "            Test Predictions  Actuals\n",
              "date                                 \n",
              "2021-04-14       4410.108356     4293\n",
              "2021-04-15       3762.751569     3840\n",
              "2021-04-16       4205.071138     3754\n",
              "2021-04-17       4210.361311     2987\n",
              "2021-04-18       3060.124755     2163\n",
              "...                      ...      ...\n",
              "2021-07-31       1745.809305     1027\n",
              "2021-08-01       1531.987991      936\n",
              "2021-08-02       1544.578996     1128\n",
              "2021-08-03       1966.855901     1295\n",
              "2021-08-04       1893.227287     1233\n",
              "\n",
              "[113 rows x 2 columns]"
            ],
            "text/html": [
              "\n",
              "  <div id=\"df-7cb559ac-629b-42b6-8ae5-e4331b50554d\">\n",
              "    <div class=\"colab-df-container\">\n",
              "      <div>\n",
              "<style scoped>\n",
              "    .dataframe tbody tr th:only-of-type {\n",
              "        vertical-align: middle;\n",
              "    }\n",
              "\n",
              "    .dataframe tbody tr th {\n",
              "        vertical-align: top;\n",
              "    }\n",
              "\n",
              "    .dataframe thead th {\n",
              "        text-align: right;\n",
              "    }\n",
              "</style>\n",
              "<table border=\"1\" class=\"dataframe\">\n",
              "  <thead>\n",
              "    <tr style=\"text-align: right;\">\n",
              "      <th></th>\n",
              "      <th>Test Predictions</th>\n",
              "      <th>Actuals</th>\n",
              "    </tr>\n",
              "    <tr>\n",
              "      <th>date</th>\n",
              "      <th></th>\n",
              "      <th></th>\n",
              "    </tr>\n",
              "  </thead>\n",
              "  <tbody>\n",
              "    <tr>\n",
              "      <th>2021-04-14</th>\n",
              "      <td>4410.108356</td>\n",
              "      <td>4293</td>\n",
              "    </tr>\n",
              "    <tr>\n",
              "      <th>2021-04-15</th>\n",
              "      <td>3762.751569</td>\n",
              "      <td>3840</td>\n",
              "    </tr>\n",
              "    <tr>\n",
              "      <th>2021-04-16</th>\n",
              "      <td>4205.071138</td>\n",
              "      <td>3754</td>\n",
              "    </tr>\n",
              "    <tr>\n",
              "      <th>2021-04-17</th>\n",
              "      <td>4210.361311</td>\n",
              "      <td>2987</td>\n",
              "    </tr>\n",
              "    <tr>\n",
              "      <th>2021-04-18</th>\n",
              "      <td>3060.124755</td>\n",
              "      <td>2163</td>\n",
              "    </tr>\n",
              "    <tr>\n",
              "      <th>...</th>\n",
              "      <td>...</td>\n",
              "      <td>...</td>\n",
              "    </tr>\n",
              "    <tr>\n",
              "      <th>2021-07-31</th>\n",
              "      <td>1745.809305</td>\n",
              "      <td>1027</td>\n",
              "    </tr>\n",
              "    <tr>\n",
              "      <th>2021-08-01</th>\n",
              "      <td>1531.987991</td>\n",
              "      <td>936</td>\n",
              "    </tr>\n",
              "    <tr>\n",
              "      <th>2021-08-02</th>\n",
              "      <td>1544.578996</td>\n",
              "      <td>1128</td>\n",
              "    </tr>\n",
              "    <tr>\n",
              "      <th>2021-08-03</th>\n",
              "      <td>1966.855901</td>\n",
              "      <td>1295</td>\n",
              "    </tr>\n",
              "    <tr>\n",
              "      <th>2021-08-04</th>\n",
              "      <td>1893.227287</td>\n",
              "      <td>1233</td>\n",
              "    </tr>\n",
              "  </tbody>\n",
              "</table>\n",
              "<p>113 rows × 2 columns</p>\n",
              "</div>\n",
              "      <button class=\"colab-df-convert\" onclick=\"convertToInteractive('df-7cb559ac-629b-42b6-8ae5-e4331b50554d')\"\n",
              "              title=\"Convert this dataframe to an interactive table.\"\n",
              "              style=\"display:none;\">\n",
              "        \n",
              "  <svg xmlns=\"http://www.w3.org/2000/svg\" height=\"24px\"viewBox=\"0 0 24 24\"\n",
              "       width=\"24px\">\n",
              "    <path d=\"M0 0h24v24H0V0z\" fill=\"none\"/>\n",
              "    <path d=\"M18.56 5.44l.94 2.06.94-2.06 2.06-.94-2.06-.94-.94-2.06-.94 2.06-2.06.94zm-11 1L8.5 8.5l.94-2.06 2.06-.94-2.06-.94L8.5 2.5l-.94 2.06-2.06.94zm10 10l.94 2.06.94-2.06 2.06-.94-2.06-.94-.94-2.06-.94 2.06-2.06.94z\"/><path d=\"M17.41 7.96l-1.37-1.37c-.4-.4-.92-.59-1.43-.59-.52 0-1.04.2-1.43.59L10.3 9.45l-7.72 7.72c-.78.78-.78 2.05 0 2.83L4 21.41c.39.39.9.59 1.41.59.51 0 1.02-.2 1.41-.59l7.78-7.78 2.81-2.81c.8-.78.8-2.07 0-2.86zM5.41 20L4 18.59l7.72-7.72 1.47 1.35L5.41 20z\"/>\n",
              "  </svg>\n",
              "      </button>\n",
              "      \n",
              "  <style>\n",
              "    .colab-df-container {\n",
              "      display:flex;\n",
              "      flex-wrap:wrap;\n",
              "      gap: 12px;\n",
              "    }\n",
              "\n",
              "    .colab-df-convert {\n",
              "      background-color: #E8F0FE;\n",
              "      border: none;\n",
              "      border-radius: 50%;\n",
              "      cursor: pointer;\n",
              "      display: none;\n",
              "      fill: #1967D2;\n",
              "      height: 32px;\n",
              "      padding: 0 0 0 0;\n",
              "      width: 32px;\n",
              "    }\n",
              "\n",
              "    .colab-df-convert:hover {\n",
              "      background-color: #E2EBFA;\n",
              "      box-shadow: 0px 1px 2px rgba(60, 64, 67, 0.3), 0px 1px 3px 1px rgba(60, 64, 67, 0.15);\n",
              "      fill: #174EA6;\n",
              "    }\n",
              "\n",
              "    [theme=dark] .colab-df-convert {\n",
              "      background-color: #3B4455;\n",
              "      fill: #D2E3FC;\n",
              "    }\n",
              "\n",
              "    [theme=dark] .colab-df-convert:hover {\n",
              "      background-color: #434B5C;\n",
              "      box-shadow: 0px 1px 3px 1px rgba(0, 0, 0, 0.15);\n",
              "      filter: drop-shadow(0px 1px 2px rgba(0, 0, 0, 0.3));\n",
              "      fill: #FFFFFF;\n",
              "    }\n",
              "  </style>\n",
              "\n",
              "      <script>\n",
              "        const buttonEl =\n",
              "          document.querySelector('#df-7cb559ac-629b-42b6-8ae5-e4331b50554d button.colab-df-convert');\n",
              "        buttonEl.style.display =\n",
              "          google.colab.kernel.accessAllowed ? 'block' : 'none';\n",
              "\n",
              "        async function convertToInteractive(key) {\n",
              "          const element = document.querySelector('#df-7cb559ac-629b-42b6-8ae5-e4331b50554d');\n",
              "          const dataTable =\n",
              "            await google.colab.kernel.invokeFunction('convertToInteractive',\n",
              "                                                     [key], {});\n",
              "          if (!dataTable) return;\n",
              "\n",
              "          const docLinkHtml = 'Like what you see? Visit the ' +\n",
              "            '<a target=\"_blank\" href=https://colab.research.google.com/notebooks/data_table.ipynb>data table notebook</a>'\n",
              "            + ' to learn more about interactive tables.';\n",
              "          element.innerHTML = '';\n",
              "          dataTable['output_type'] = 'display_data';\n",
              "          await google.colab.output.renderOutput(dataTable, element);\n",
              "          const docLink = document.createElement('div');\n",
              "          docLink.innerHTML = docLinkHtml;\n",
              "          element.appendChild(docLink);\n",
              "        }\n",
              "      </script>\n",
              "    </div>\n",
              "  </div>\n",
              "  "
            ]
          },
          "metadata": {},
          "execution_count": 275
        }
      ]
    },
    {
      "cell_type": "code",
      "source": [
        "# Plot test predictions\n",
        "plt.subplots(figsize = (16, 8))\n",
        "plt.plot(ml_test_results['Test Predictions'], color = \"green\")\n",
        "plt.plot(ml_test_results['Actuals'], color = \"orange\")\n",
        "plt.title(\"PolyReg (degree = 2): Test Predictions vs. Actual Values\")\n",
        "plt.xlabel(\"Date\")\n",
        "plt.ylabel(\"Daily deaths\")\n",
        "plt.legend(ml_test_results)\n",
        "plt.savefig('polyreg2_test_predictions_vs_actuals')"
      ],
      "metadata": {
        "colab": {
          "base_uri": "https://localhost:8080/",
          "height": 521
        },
        "id": "gsSoDkwyCfYm",
        "outputId": "ed6cc778-0fcc-46ec-ece5-3b5f2f1cfb56"
      },
      "execution_count": 276,
      "outputs": [
        {
          "output_type": "display_data",
          "data": {
            "text/plain": [
              "<Figure size 1600x800 with 1 Axes>"
            ],
            "image/png": "[encoded data removed]"
          },
          "metadata": {}
        }
      ]
    },
    {
      "cell_type": "code",
      "source": [
        "polyreg_results = evaluate_preds(y_true = y_test, \n",
        "                                 y_pred = poly_pred)\n",
        "print(\"Polynomial Regression (deg = 2)\\n\")\n",
        "polyreg_results"
      ],
      "metadata": {
        "colab": {
          "base_uri": "https://localhost:8080/"
        },
        "id": "DaeLUAkDsDFP",
        "outputId": "a3cdfa5a-c1e1-4eef-c229-dec3a6d10bb1"
      },
      "execution_count": 277,
      "outputs": [
        {
          "output_type": "stream",
          "name": "stdout",
          "text": [
            "Polynomial Regression (deg = 2)\n",
            "\n"
          ]
        },
        {
          "output_type": "execute_result",
          "data": {
            "text/plain": [
              "{'mae': 591.1533,\n",
              " 'mase': 2.3718984,\n",
              " 'mape': 47.860332,\n",
              " 'mse': 400621.34,\n",
              " 'rmse': 632.94653,\n",
              " 'r2': 0.5002806136985023}"
            ]
          },
          "metadata": {},
          "execution_count": 277
        }
      ]
    },
    {
      "cell_type": "code",
      "source": [
        "# Apply polynomial regression model\n",
        "poly3 = PolynomialFeatures(degree = 3)\n",
        "\n",
        "# Transform the data\n",
        "X_poly3_train = poly3.fit_transform(X_train)\n",
        "X_poly3_test = poly3.fit_transform(X_test)\n",
        "\n",
        "# Fit the model\n",
        "poly3.fit(X_poly_train, y_train)\n",
        "ml_model = LinearRegression()\n",
        "\n",
        "ml_model.fit(X_poly3_train, y_train)"
      ],
      "metadata": {
        "colab": {
          "base_uri": "https://localhost:8080/",
          "height": 75
        },
        "id": "hXW1PZ9ftJKk",
        "outputId": "03d947cc-fc25-4d4d-fa59-8b2fc1ccdac0"
      },
      "execution_count": 278,
      "outputs": [
        {
          "output_type": "execute_result",
          "data": {
            "text/plain": [
              "LinearRegression()"
            ],
            "text/html": [
              "<style>#sk-container-id-10 {color: black;background-color: white;}#sk-container-id-10 pre{padding: 0;}#sk-container-id-10 div.sk-toggleable {background-color: white;}#sk-container-id-10 label.sk-toggleable__label {cursor: pointer;display: block;width: 100%;margin-bottom: 0;padding: 0.3em;box-sizing: border-box;text-align: center;}#sk-container-id-10 label.sk-toggleable__label-arrow:before {content: \"▸\";float: left;margin-right: 0.25em;color: #696969;}#sk-container-id-10 label.sk-toggleable__label-arrow:hover:before {color: black;}#sk-container-id-10 div.sk-estimator:hover label.sk-toggleable__label-arrow:before {color: black;}#sk-container-id-10 div.sk-toggleable__content {max-height: 0;max-width: 0;overflow: hidden;text-align: left;background-color: #f0f8ff;}#sk-container-id-10 div.sk-toggleable__content pre {margin: 0.2em;color: black;border-radius: 0.25em;background-color: #f0f8ff;}#sk-container-id-10 input.sk-toggleable__control:checked~div.sk-toggleable__content {max-height: 200px;max-width: 100%;overflow: auto;}#sk-container-id-10 input.sk-toggleable__control:checked~label.sk-toggleable__label-arrow:before {content: \"▾\";}#sk-container-id-10 div.sk-estimator input.sk-toggleable__control:checked~label.sk-toggleable__label {background-color: #d4ebff;}#sk-container-id-10 div.sk-label input.sk-toggleable__control:checked~label.sk-toggleable__label {background-color: #d4ebff;}#sk-container-id-10 input.sk-hidden--visually {border: 0;clip: rect(1px 1px 1px 1px);clip: rect(1px, 1px, 1px, 1px);height: 1px;margin: -1px;overflow: hidden;padding: 0;position: absolute;width: 1px;}#sk-container-id-10 div.sk-estimator {font-family: monospace;background-color: #f0f8ff;border: 1px dotted black;border-radius: 0.25em;box-sizing: border-box;margin-bottom: 0.5em;}#sk-container-id-10 div.sk-estimator:hover {background-color: #d4ebff;}#sk-container-id-10 div.sk-parallel-item::after {content: \"\";width: 100%;border-bottom: 1px solid gray;flex-grow: 1;}#sk-container-id-10 div.sk-label:hover label.sk-toggleable__label {background-color: #d4ebff;}#sk-container-id-10 div.sk-serial::before {content: \"\";position: absolute;border-left: 1px solid gray;box-sizing: border-box;top: 0;bottom: 0;left: 50%;z-index: 0;}#sk-container-id-10 div.sk-serial {display: flex;flex-direction: column;align-items: center;background-color: white;padding-right: 0.2em;padding-left: 0.2em;position: relative;}#sk-container-id-10 div.sk-item {position: relative;z-index: 1;}#sk-container-id-10 div.sk-parallel {display: flex;align-items: stretch;justify-content: center;background-color: white;position: relative;}#sk-container-id-10 div.sk-item::before, #sk-container-id-10 div.sk-parallel-item::before {content: \"\";position: absolute;border-left: 1px solid gray;box-sizing: border-box;top: 0;bottom: 0;left: 50%;z-index: -1;}#sk-container-id-10 div.sk-parallel-item {display: flex;flex-direction: column;z-index: 1;position: relative;background-color: white;}#sk-container-id-10 div.sk-parallel-item:first-child::after {align-self: flex-end;width: 50%;}#sk-container-id-10 div.sk-parallel-item:last-child::after {align-self: flex-start;width: 50%;}#sk-container-id-10 div.sk-parallel-item:only-child::after {width: 0;}#sk-container-id-10 div.sk-dashed-wrapped {border: 1px dashed gray;margin: 0 0.4em 0.5em 0.4em;box-sizing: border-box;padding-bottom: 0.4em;background-color: white;}#sk-container-id-10 div.sk-label label {font-family: monospace;font-weight: bold;display: inline-block;line-height: 1.2em;}#sk-container-id-10 div.sk-label-container {text-align: center;}#sk-container-id-10 div.sk-container {/* jupyter's `normalize.less` sets `[hidden] { display: none; }` but bootstrap.min.css set `[hidden] { display: none !important; }` so we also need the `!important` here to be able to override the default hidden behavior on the sphinx rendered scikit-learn.org. See: https://github.com/scikit-learn/scikit-learn/issues/21755 */display: inline-block !important;position: relative;}#sk-container-id-10 div.sk-text-repr-fallback {display: none;}</style><div id=\"sk-container-id-10\" class=\"sk-top-container\"><div class=\"sk-text-repr-fallback\"><pre>LinearRegression()</pre><b>In a Jupyter environment, please rerun this cell to show the HTML representation or trust the notebook. <br />On GitHub, the HTML representation is unable to render, please try loading this page with nbviewer.org.</b></div><div class=\"sk-container\" hidden><div class=\"sk-item\"><div class=\"sk-estimator sk-toggleable\"><input class=\"sk-toggleable__control sk-hidden--visually\" id=\"sk-estimator-id-10\" type=\"checkbox\" checked><label for=\"sk-estimator-id-10\" class=\"sk-toggleable__label sk-toggleable__label-arrow\">LinearRegression</label><div class=\"sk-toggleable__content\"><pre>LinearRegression()</pre></div></div></div></div></div>"
            ]
          },
          "metadata": {},
          "execution_count": 278
        }
      ]
    },
    {
      "cell_type": "code",
      "source": [
        "# Creating a data frame of test predictions vs actuals\n",
        "poly3_pred = ml_model.predict(X_poly3_test)\n",
        "ml_test_results = pd.DataFrame(data ={'Test Predictions': poly3_pred, \n",
        "                                      'Actuals': y_test})\n",
        "ml_test_results"
      ],
      "metadata": {
        "colab": {
          "base_uri": "https://localhost:8080/",
          "height": 455
        },
        "id": "Y1pVCGiEthpW",
        "outputId": "80543782-e271-4773-edf5-27c32e1b509e"
      },
      "execution_count": 279,
      "outputs": [
        {
          "output_type": "execute_result",
          "data": {
            "text/plain": [
              "            Test Predictions  Actuals\n",
              "date                                 \n",
              "2021-04-14       4236.608354     4293\n",
              "2021-04-15       3539.847284     3840\n",
              "2021-04-16       4087.515250     3754\n",
              "2021-04-17       4119.410341     2987\n",
              "2021-04-18       3228.996558     2163\n",
              "...                      ...      ...\n",
              "2021-07-31       2024.633687     1027\n",
              "2021-08-01       1832.118049      936\n",
              "2021-08-02       1490.212074     1128\n",
              "2021-08-03       2156.912104     1295\n",
              "2021-08-04       1897.273680     1233\n",
              "\n",
              "[113 rows x 2 columns]"
            ],
            "text/html": [
              "\n",
              "  <div id=\"df-769520c6-f98b-4959-8f01-8c5a469cdd82\">\n",
              "    <div class=\"colab-df-container\">\n",
              "      <div>\n",
              "<style scoped>\n",
              "    .dataframe tbody tr th:only-of-type {\n",
              "        vertical-align: middle;\n",
              "    }\n",
              "\n",
              "    .dataframe tbody tr th {\n",
              "        vertical-align: top;\n",
              "    }\n",
              "\n",
              "    .dataframe thead th {\n",
              "        text-align: right;\n",
              "    }\n",
              "</style>\n",
              "<table border=\"1\" class=\"dataframe\">\n",
              "  <thead>\n",
              "    <tr style=\"text-align: right;\">\n",
              "      <th></th>\n",
              "      <th>Test Predictions</th>\n",
              "      <th>Actuals</th>\n",
              "    </tr>\n",
              "    <tr>\n",
              "      <th>date</th>\n",
              "      <th></th>\n",
              "      <th></th>\n",
              "    </tr>\n",
              "  </thead>\n",
              "  <tbody>\n",
              "    <tr>\n",
              "      <th>2021-04-14</th>\n",
              "      <td>4236.608354</td>\n",
              "      <td>4293</td>\n",
              "    </tr>\n",
              "    <tr>\n",
              "      <th>2021-04-15</th>\n",
              "      <td>3539.847284</td>\n",
              "      <td>3840</td>\n",
              "    </tr>\n",
              "    <tr>\n",
              "      <th>2021-04-16</th>\n",
              "      <td>4087.515250</td>\n",
              "      <td>3754</td>\n",
              "    </tr>\n",
              "    <tr>\n",
              "      <th>2021-04-17</th>\n",
              "      <td>4119.410341</td>\n",
              "      <td>2987</td>\n",
              "    </tr>\n",
              "    <tr>\n",
              "      <th>2021-04-18</th>\n",
              "      <td>3228.996558</td>\n",
              "      <td>2163</td>\n",
              "    </tr>\n",
              "    <tr>\n",
              "      <th>...</th>\n",
              "      <td>...</td>\n",
              "      <td>...</td>\n",
              "    </tr>\n",
              "    <tr>\n",
              "      <th>2021-07-31</th>\n",
              "      <td>2024.633687</td>\n",
              "      <td>1027</td>\n",
              "    </tr>\n",
              "    <tr>\n",
              "      <th>2021-08-01</th>\n",
              "      <td>1832.118049</td>\n",
              "      <td>936</td>\n",
              "    </tr>\n",
              "    <tr>\n",
              "      <th>2021-08-02</th>\n",
              "      <td>1490.212074</td>\n",
              "      <td>1128</td>\n",
              "    </tr>\n",
              "    <tr>\n",
              "      <th>2021-08-03</th>\n",
              "      <td>2156.912104</td>\n",
              "      <td>1295</td>\n",
              "    </tr>\n",
              "    <tr>\n",
              "      <th>2021-08-04</th>\n",
              "      <td>1897.273680</td>\n",
              "      <td>1233</td>\n",
              "    </tr>\n",
              "  </tbody>\n",
              "</table>\n",
              "<p>113 rows × 2 columns</p>\n",
              "</div>\n",
              "      <button class=\"colab-df-convert\" onclick=\"convertToInteractive('df-769520c6-f98b-4959-8f01-8c5a469cdd82')\"\n",
              "              title=\"Convert this dataframe to an interactive table.\"\n",
              "              style=\"display:none;\">\n",
              "        \n",
              "  <svg xmlns=\"http://www.w3.org/2000/svg\" height=\"24px\"viewBox=\"0 0 24 24\"\n",
              "       width=\"24px\">\n",
              "    <path d=\"M0 0h24v24H0V0z\" fill=\"none\"/>\n",
              "    <path d=\"M18.56 5.44l.94 2.06.94-2.06 2.06-.94-2.06-.94-.94-2.06-.94 2.06-2.06.94zm-11 1L8.5 8.5l.94-2.06 2.06-.94-2.06-.94L8.5 2.5l-.94 2.06-2.06.94zm10 10l.94 2.06.94-2.06 2.06-.94-2.06-.94-.94-2.06-.94 2.06-2.06.94z\"/><path d=\"M17.41 7.96l-1.37-1.37c-.4-.4-.92-.59-1.43-.59-.52 0-1.04.2-1.43.59L10.3 9.45l-7.72 7.72c-.78.78-.78 2.05 0 2.83L4 21.41c.39.39.9.59 1.41.59.51 0 1.02-.2 1.41-.59l7.78-7.78 2.81-2.81c.8-.78.8-2.07 0-2.86zM5.41 20L4 18.59l7.72-7.72 1.47 1.35L5.41 20z\"/>\n",
              "  </svg>\n",
              "      </button>\n",
              "      \n",
              "  <style>\n",
              "    .colab-df-container {\n",
              "      display:flex;\n",
              "      flex-wrap:wrap;\n",
              "      gap: 12px;\n",
              "    }\n",
              "\n",
              "    .colab-df-convert {\n",
              "      background-color: #E8F0FE;\n",
              "      border: none;\n",
              "      border-radius: 50%;\n",
              "      cursor: pointer;\n",
              "      display: none;\n",
              "      fill: #1967D2;\n",
              "      height: 32px;\n",
              "      padding: 0 0 0 0;\n",
              "      width: 32px;\n",
              "    }\n",
              "\n",
              "    .colab-df-convert:hover {\n",
              "      background-color: #E2EBFA;\n",
              "      box-shadow: 0px 1px 2px rgba(60, 64, 67, 0.3), 0px 1px 3px 1px rgba(60, 64, 67, 0.15);\n",
              "      fill: #174EA6;\n",
              "    }\n",
              "\n",
              "    [theme=dark] .colab-df-convert {\n",
              "      background-color: #3B4455;\n",
              "      fill: #D2E3FC;\n",
              "    }\n",
              "\n",
              "    [theme=dark] .colab-df-convert:hover {\n",
              "      background-color: #434B5C;\n",
              "      box-shadow: 0px 1px 3px 1px rgba(0, 0, 0, 0.15);\n",
              "      filter: drop-shadow(0px 1px 2px rgba(0, 0, 0, 0.3));\n",
              "      fill: #FFFFFF;\n",
              "    }\n",
              "  </style>\n",
              "\n",
              "      <script>\n",
              "        const buttonEl =\n",
              "          document.querySelector('#df-769520c6-f98b-4959-8f01-8c5a469cdd82 button.colab-df-convert');\n",
              "        buttonEl.style.display =\n",
              "          google.colab.kernel.accessAllowed ? 'block' : 'none';\n",
              "\n",
              "        async function convertToInteractive(key) {\n",
              "          const element = document.querySelector('#df-769520c6-f98b-4959-8f01-8c5a469cdd82');\n",
              "          const dataTable =\n",
              "            await google.colab.kernel.invokeFunction('convertToInteractive',\n",
              "                                                     [key], {});\n",
              "          if (!dataTable) return;\n",
              "\n",
              "          const docLinkHtml = 'Like what you see? Visit the ' +\n",
              "            '<a target=\"_blank\" href=https://colab.research.google.com/notebooks/data_table.ipynb>data table notebook</a>'\n",
              "            + ' to learn more about interactive tables.';\n",
              "          element.innerHTML = '';\n",
              "          dataTable['output_type'] = 'display_data';\n",
              "          await google.colab.output.renderOutput(dataTable, element);\n",
              "          const docLink = document.createElement('div');\n",
              "          docLink.innerHTML = docLinkHtml;\n",
              "          element.appendChild(docLink);\n",
              "        }\n",
              "      </script>\n",
              "    </div>\n",
              "  </div>\n",
              "  "
            ]
          },
          "metadata": {},
          "execution_count": 279
        }
      ]
    },
    {
      "cell_type": "code",
      "source": [
        "# Plot test predictions\n",
        "plt.subplots(figsize=(16,8))\n",
        "plt.plot(ml_test_results['Test Predictions'], color = \"green\")\n",
        "plt.plot(ml_test_results['Actuals'], color = \"orange\")\n",
        "plt.title(\"PolyReg (degree = 3) - Test Predictions vs. Actual Values\")\n",
        "plt.xlabel(\"Observations\")\n",
        "plt.ylabel(\"Daily deaths\")\n",
        "plt.legend(ml_test_results)\n",
        "plt.savefig('polyreg3_test_predictions_vs_actuals.png')"
      ],
      "metadata": {
        "colab": {
          "base_uri": "https://localhost:8080/",
          "height": 521
        },
        "id": "B6D1R6AWuGg9",
        "outputId": "5f5e49aa-d4b9-4d45-f490-68d95c993677"
      },
      "execution_count": 280,
      "outputs": [
        {
          "output_type": "display_data",
          "data": {
            "text/plain": [
              "<Figure size 1600x800 with 1 Axes>"
            ],
            "image/png": "[encoded data removed]"
          },
          "metadata": {}
        }
      ]
    },
    {
      "cell_type": "code",
      "source": [
        "polyreg3_results = evaluate_preds(y_true = y_test, \n",
        "                                 y_pred = poly3_pred)\n",
        "print(\"Polynomial Regression (deg = 3)\\n\")\n",
        "polyreg3_results"
      ],
      "metadata": {
        "colab": {
          "base_uri": "https://localhost:8080/"
        },
        "id": "rh18C6rVuNis",
        "outputId": "6cfb9ea1-d223-4691-ebe2-55c3d2eb8ac8"
      },
      "execution_count": 281,
      "outputs": [
        {
          "output_type": "stream",
          "name": "stdout",
          "text": [
            "Polynomial Regression (deg = 3)\n",
            "\n"
          ]
        },
        {
          "output_type": "execute_result",
          "data": {
            "text/plain": [
              "{'mae': 694.85,\n",
              " 'mase': 2.787963,\n",
              " 'mape': 58.756447,\n",
              " 'mse': 539563.9,\n",
              " 'rmse': 734.5501,\n",
              " 'r2': 0.3269691454575734}"
            ]
          },
          "metadata": {},
          "execution_count": 281
        }
      ]
    },
    {
      "cell_type": "markdown",
      "source": [
        "## Deep Learning Method: Long-Short Term Memory Network"
      ],
      "metadata": {
        "id": "2r2305NluoL8"
      }
    },
    {
      "cell_type": "code",
      "source": [
        "# Create a new dataframe for univariate time series analysis\n",
        "euro_newd = pd.DataFrame()\n",
        "euro_newd.index = df_dict['Italy']['new.d'].index\n",
        "euro_newd['new.d'] = df_dict['Italy']['new.d'].values"
      ],
      "metadata": {
        "id": "zkgEKzr9V_3b"
      },
      "execution_count": 282,
      "outputs": []
    },
    {
      "cell_type": "code",
      "source": [
        "euro_newd['new.d'] = 0\n",
        "euro_newd['new.d'].astype(np.int64)\n",
        "euro_newd['new.d'].describe()"
      ],
      "metadata": {
        "colab": {
          "base_uri": "https://localhost:8080/"
        },
        "id": "ku1dWiTngeEy",
        "outputId": "ba71dd70-e62c-433b-aa1a-b08ba4a43600"
      },
      "execution_count": 283,
      "outputs": [
        {
          "output_type": "execute_result",
          "data": {
            "text/plain": [
              "count    561.0\n",
              "mean       0.0\n",
              "std        0.0\n",
              "min        0.0\n",
              "25%        0.0\n",
              "50%        0.0\n",
              "75%        0.0\n",
              "max        0.0\n",
              "Name: new.d, dtype: float64"
            ]
          },
          "metadata": {},
          "execution_count": 283
        }
      ]
    },
    {
      "cell_type": "code",
      "source": [
        "# Sum up daily deaths from all the countries\n",
        "for country in countries:\n",
        "  euro_newd['new.d'] += df_dict[country]['new.d']"
      ],
      "metadata": {
        "id": "6ga6gUW1h3AJ"
      },
      "execution_count": 284,
      "outputs": []
    },
    {
      "cell_type": "code",
      "source": [
        "euro_newd.describe()"
      ],
      "metadata": {
        "colab": {
          "base_uri": "https://localhost:8080/",
          "height": 300
        },
        "id": "KLelViq9h_TY",
        "outputId": "db3be11d-b0b8-48fd-a566-ae469cf3a25b"
      },
      "execution_count": 285,
      "outputs": [
        {
          "output_type": "execute_result",
          "data": {
            "text/plain": [
              "             new.d\n",
              "count   561.000000\n",
              "mean   2034.486631\n",
              "std    1827.030665\n",
              "min       0.000000\n",
              "25%     441.000000\n",
              "50%    1263.000000\n",
              "75%    3312.000000\n",
              "max    7554.000000"
            ],
            "text/html": [
              "\n",
              "  <div id=\"df-b53482d3-8933-4618-a2a1-5f424cc37f64\">\n",
              "    <div class=\"colab-df-container\">\n",
              "      <div>\n",
              "<style scoped>\n",
              "    .dataframe tbody tr th:only-of-type {\n",
              "        vertical-align: middle;\n",
              "    }\n",
              "\n",
              "    .dataframe tbody tr th {\n",
              "        vertical-align: top;\n",
              "    }\n",
              "\n",
              "    .dataframe thead th {\n",
              "        text-align: right;\n",
              "    }\n",
              "</style>\n",
              "<table border=\"1\" class=\"dataframe\">\n",
              "  <thead>\n",
              "    <tr style=\"text-align: right;\">\n",
              "      <th></th>\n",
              "      <th>new.d</th>\n",
              "    </tr>\n",
              "  </thead>\n",
              "  <tbody>\n",
              "    <tr>\n",
              "      <th>count</th>\n",
              "      <td>561.000000</td>\n",
              "    </tr>\n",
              "    <tr>\n",
              "      <th>mean</th>\n",
              "      <td>2034.486631</td>\n",
              "    </tr>\n",
              "    <tr>\n",
              "      <th>std</th>\n",
              "      <td>1827.030665</td>\n",
              "    </tr>\n",
              "    <tr>\n",
              "      <th>min</th>\n",
              "      <td>0.000000</td>\n",
              "    </tr>\n",
              "    <tr>\n",
              "      <th>25%</th>\n",
              "      <td>441.000000</td>\n",
              "    </tr>\n",
              "    <tr>\n",
              "      <th>50%</th>\n",
              "      <td>1263.000000</td>\n",
              "    </tr>\n",
              "    <tr>\n",
              "      <th>75%</th>\n",
              "      <td>3312.000000</td>\n",
              "    </tr>\n",
              "    <tr>\n",
              "      <th>max</th>\n",
              "      <td>7554.000000</td>\n",
              "    </tr>\n",
              "  </tbody>\n",
              "</table>\n",
              "</div>\n",
              "      <button class=\"colab-df-convert\" onclick=\"convertToInteractive('df-b53482d3-8933-4618-a2a1-5f424cc37f64')\"\n",
              "              title=\"Convert this dataframe to an interactive table.\"\n",
              "              style=\"display:none;\">\n",
              "        \n",
              "  <svg xmlns=\"http://www.w3.org/2000/svg\" height=\"24px\"viewBox=\"0 0 24 24\"\n",
              "       width=\"24px\">\n",
              "    <path d=\"M0 0h24v24H0V0z\" fill=\"none\"/>\n",
              "    <path d=\"M18.56 5.44l.94 2.06.94-2.06 2.06-.94-2.06-.94-.94-2.06-.94 2.06-2.06.94zm-11 1L8.5 8.5l.94-2.06 2.06-.94-2.06-.94L8.5 2.5l-.94 2.06-2.06.94zm10 10l.94 2.06.94-2.06 2.06-.94-2.06-.94-.94-2.06-.94 2.06-2.06.94z\"/><path d=\"M17.41 7.96l-1.37-1.37c-.4-.4-.92-.59-1.43-.59-.52 0-1.04.2-1.43.59L10.3 9.45l-7.72 7.72c-.78.78-.78 2.05 0 2.83L4 21.41c.39.39.9.59 1.41.59.51 0 1.02-.2 1.41-.59l7.78-7.78 2.81-2.81c.8-.78.8-2.07 0-2.86zM5.41 20L4 18.59l7.72-7.72 1.47 1.35L5.41 20z\"/>\n",
              "  </svg>\n",
              "      </button>\n",
              "      \n",
              "  <style>\n",
              "    .colab-df-container {\n",
              "      display:flex;\n",
              "      flex-wrap:wrap;\n",
              "      gap: 12px;\n",
              "    }\n",
              "\n",
              "    .colab-df-convert {\n",
              "      background-color: #E8F0FE;\n",
              "      border: none;\n",
              "      border-radius: 50%;\n",
              "      cursor: pointer;\n",
              "      display: none;\n",
              "      fill: #1967D2;\n",
              "      height: 32px;\n",
              "      padding: 0 0 0 0;\n",
              "      width: 32px;\n",
              "    }\n",
              "\n",
              "    .colab-df-convert:hover {\n",
              "      background-color: #E2EBFA;\n",
              "      box-shadow: 0px 1px 2px rgba(60, 64, 67, 0.3), 0px 1px 3px 1px rgba(60, 64, 67, 0.15);\n",
              "      fill: #174EA6;\n",
              "    }\n",
              "\n",
              "    [theme=dark] .colab-df-convert {\n",
              "      background-color: #3B4455;\n",
              "      fill: #D2E3FC;\n",
              "    }\n",
              "\n",
              "    [theme=dark] .colab-df-convert:hover {\n",
              "      background-color: #434B5C;\n",
              "      box-shadow: 0px 1px 3px 1px rgba(0, 0, 0, 0.15);\n",
              "      filter: drop-shadow(0px 1px 2px rgba(0, 0, 0, 0.3));\n",
              "      fill: #FFFFFF;\n",
              "    }\n",
              "  </style>\n",
              "\n",
              "      <script>\n",
              "        const buttonEl =\n",
              "          document.querySelector('#df-b53482d3-8933-4618-a2a1-5f424cc37f64 button.colab-df-convert');\n",
              "        buttonEl.style.display =\n",
              "          google.colab.kernel.accessAllowed ? 'block' : 'none';\n",
              "\n",
              "        async function convertToInteractive(key) {\n",
              "          const element = document.querySelector('#df-b53482d3-8933-4618-a2a1-5f424cc37f64');\n",
              "          const dataTable =\n",
              "            await google.colab.kernel.invokeFunction('convertToInteractive',\n",
              "                                                     [key], {});\n",
              "          if (!dataTable) return;\n",
              "\n",
              "          const docLinkHtml = 'Like what you see? Visit the ' +\n",
              "            '<a target=\"_blank\" href=https://colab.research.google.com/notebooks/data_table.ipynb>data table notebook</a>'\n",
              "            + ' to learn more about interactive tables.';\n",
              "          element.innerHTML = '';\n",
              "          dataTable['output_type'] = 'display_data';\n",
              "          await google.colab.output.renderOutput(dataTable, element);\n",
              "          const docLink = document.createElement('div');\n",
              "          docLink.innerHTML = docLinkHtml;\n",
              "          element.appendChild(docLink);\n",
              "        }\n",
              "      </script>\n",
              "    </div>\n",
              "  </div>\n",
              "  "
            ]
          },
          "metadata": {},
          "execution_count": 285
        }
      ]
    },
    {
      "cell_type": "code",
      "source": [
        "euro_newd"
      ],
      "metadata": {
        "id": "5WHPEQn6ivsk",
        "outputId": "377ec905-ab91-4e6c-8aed-916ccd1d7ba3",
        "colab": {
          "base_uri": "https://localhost:8080/",
          "height": 455
        }
      },
      "execution_count": 286,
      "outputs": [
        {
          "output_type": "execute_result",
          "data": {
            "text/plain": [
              "            new.d\n",
              "date             \n",
              "2020-01-22      0\n",
              "2020-01-23      0\n",
              "2020-01-24      0\n",
              "2020-01-25      0\n",
              "2020-01-26      0\n",
              "...           ...\n",
              "2021-07-31   1027\n",
              "2021-08-01    936\n",
              "2021-08-02   1128\n",
              "2021-08-03   1295\n",
              "2021-08-04   1233\n",
              "\n",
              "[561 rows x 1 columns]"
            ],
            "text/html": [
              "\n",
              "  <div id=\"df-a5fd8c60-b6bd-4c3b-97c7-17b1be549bd4\">\n",
              "    <div class=\"colab-df-container\">\n",
              "      <div>\n",
              "<style scoped>\n",
              "    .dataframe tbody tr th:only-of-type {\n",
              "        vertical-align: middle;\n",
              "    }\n",
              "\n",
              "    .dataframe tbody tr th {\n",
              "        vertical-align: top;\n",
              "    }\n",
              "\n",
              "    .dataframe thead th {\n",
              "        text-align: right;\n",
              "    }\n",
              "</style>\n",
              "<table border=\"1\" class=\"dataframe\">\n",
              "  <thead>\n",
              "    <tr style=\"text-align: right;\">\n",
              "      <th></th>\n",
              "      <th>new.d</th>\n",
              "    </tr>\n",
              "    <tr>\n",
              "      <th>date</th>\n",
              "      <th></th>\n",
              "    </tr>\n",
              "  </thead>\n",
              "  <tbody>\n",
              "    <tr>\n",
              "      <th>2020-01-22</th>\n",
              "      <td>0</td>\n",
              "    </tr>\n",
              "    <tr>\n",
              "      <th>2020-01-23</th>\n",
              "      <td>0</td>\n",
              "    </tr>\n",
              "    <tr>\n",
              "      <th>2020-01-24</th>\n",
              "      <td>0</td>\n",
              "    </tr>\n",
              "    <tr>\n",
              "      <th>2020-01-25</th>\n",
              "      <td>0</td>\n",
              "    </tr>\n",
              "    <tr>\n",
              "      <th>2020-01-26</th>\n",
              "      <td>0</td>\n",
              "    </tr>\n",
              "    <tr>\n",
              "      <th>...</th>\n",
              "      <td>...</td>\n",
              "    </tr>\n",
              "    <tr>\n",
              "      <th>2021-07-31</th>\n",
              "      <td>1027</td>\n",
              "    </tr>\n",
              "    <tr>\n",
              "      <th>2021-08-01</th>\n",
              "      <td>936</td>\n",
              "    </tr>\n",
              "    <tr>\n",
              "      <th>2021-08-02</th>\n",
              "      <td>1128</td>\n",
              "    </tr>\n",
              "    <tr>\n",
              "      <th>2021-08-03</th>\n",
              "      <td>1295</td>\n",
              "    </tr>\n",
              "    <tr>\n",
              "      <th>2021-08-04</th>\n",
              "      <td>1233</td>\n",
              "    </tr>\n",
              "  </tbody>\n",
              "</table>\n",
              "<p>561 rows × 1 columns</p>\n",
              "</div>\n",
              "      <button class=\"colab-df-convert\" onclick=\"convertToInteractive('df-a5fd8c60-b6bd-4c3b-97c7-17b1be549bd4')\"\n",
              "              title=\"Convert this dataframe to an interactive table.\"\n",
              "              style=\"display:none;\">\n",
              "        \n",
              "  <svg xmlns=\"http://www.w3.org/2000/svg\" height=\"24px\"viewBox=\"0 0 24 24\"\n",
              "       width=\"24px\">\n",
              "    <path d=\"M0 0h24v24H0V0z\" fill=\"none\"/>\n",
              "    <path d=\"M18.56 5.44l.94 2.06.94-2.06 2.06-.94-2.06-.94-.94-2.06-.94 2.06-2.06.94zm-11 1L8.5 8.5l.94-2.06 2.06-.94-2.06-.94L8.5 2.5l-.94 2.06-2.06.94zm10 10l.94 2.06.94-2.06 2.06-.94-2.06-.94-.94-2.06-.94 2.06-2.06.94z\"/><path d=\"M17.41 7.96l-1.37-1.37c-.4-.4-.92-.59-1.43-.59-.52 0-1.04.2-1.43.59L10.3 9.45l-7.72 7.72c-.78.78-.78 2.05 0 2.83L4 21.41c.39.39.9.59 1.41.59.51 0 1.02-.2 1.41-.59l7.78-7.78 2.81-2.81c.8-.78.8-2.07 0-2.86zM5.41 20L4 18.59l7.72-7.72 1.47 1.35L5.41 20z\"/>\n",
              "  </svg>\n",
              "      </button>\n",
              "      \n",
              "  <style>\n",
              "    .colab-df-container {\n",
              "      display:flex;\n",
              "      flex-wrap:wrap;\n",
              "      gap: 12px;\n",
              "    }\n",
              "\n",
              "    .colab-df-convert {\n",
              "      background-color: #E8F0FE;\n",
              "      border: none;\n",
              "      border-radius: 50%;\n",
              "      cursor: pointer;\n",
              "      display: none;\n",
              "      fill: #1967D2;\n",
              "      height: 32px;\n",
              "      padding: 0 0 0 0;\n",
              "      width: 32px;\n",
              "    }\n",
              "\n",
              "    .colab-df-convert:hover {\n",
              "      background-color: #E2EBFA;\n",
              "      box-shadow: 0px 1px 2px rgba(60, 64, 67, 0.3), 0px 1px 3px 1px rgba(60, 64, 67, 0.15);\n",
              "      fill: #174EA6;\n",
              "    }\n",
              "\n",
              "    [theme=dark] .colab-df-convert {\n",
              "      background-color: #3B4455;\n",
              "      fill: #D2E3FC;\n",
              "    }\n",
              "\n",
              "    [theme=dark] .colab-df-convert:hover {\n",
              "      background-color: #434B5C;\n",
              "      box-shadow: 0px 1px 3px 1px rgba(0, 0, 0, 0.15);\n",
              "      filter: drop-shadow(0px 1px 2px rgba(0, 0, 0, 0.3));\n",
              "      fill: #FFFFFF;\n",
              "    }\n",
              "  </style>\n",
              "\n",
              "      <script>\n",
              "        const buttonEl =\n",
              "          document.querySelector('#df-a5fd8c60-b6bd-4c3b-97c7-17b1be549bd4 button.colab-df-convert');\n",
              "        buttonEl.style.display =\n",
              "          google.colab.kernel.accessAllowed ? 'block' : 'none';\n",
              "\n",
              "        async function convertToInteractive(key) {\n",
              "          const element = document.querySelector('#df-a5fd8c60-b6bd-4c3b-97c7-17b1be549bd4');\n",
              "          const dataTable =\n",
              "            await google.colab.kernel.invokeFunction('convertToInteractive',\n",
              "                                                     [key], {});\n",
              "          if (!dataTable) return;\n",
              "\n",
              "          const docLinkHtml = 'Like what you see? Visit the ' +\n",
              "            '<a target=\"_blank\" href=https://colab.research.google.com/notebooks/data_table.ipynb>data table notebook</a>'\n",
              "            + ' to learn more about interactive tables.';\n",
              "          element.innerHTML = '';\n",
              "          dataTable['output_type'] = 'display_data';\n",
              "          await google.colab.output.renderOutput(dataTable, element);\n",
              "          const docLink = document.createElement('div');\n",
              "          docLink.innerHTML = docLinkHtml;\n",
              "          element.appendChild(docLink);\n",
              "        }\n",
              "      </script>\n",
              "    </div>\n",
              "  </div>\n",
              "  "
            ]
          },
          "metadata": {},
          "execution_count": 286
        }
      ]
    },
    {
      "cell_type": "markdown",
      "source": [
        "Show the new daily deaths cases:\n"
      ],
      "metadata": {
        "id": "rP_4ULbXZzlz"
      }
    },
    {
      "cell_type": "code",
      "source": [
        "euro_newd.plot()\n",
        "plt.title(\"Daily deaths in Europe (22nd Jan 2020 to 4th Aug 2021)\")\n",
        "plt.savefig('daily_deaths_in_europe.png')"
      ],
      "metadata": {
        "colab": {
          "base_uri": "https://localhost:8080/",
          "height": 488
        },
        "id": "wbTmH5FTfAEA",
        "outputId": "22a141bf-af71-4e10-f87d-a49bb9282628"
      },
      "execution_count": 287,
      "outputs": [
        {
          "output_type": "display_data",
          "data": {
            "text/plain": [
              "<Figure size 640x480 with 1 Axes>"
            ],
            "image/png": "[encoded data removed]"
          },
          "metadata": {}
        }
      ]
    },
    {
      "cell_type": "code",
      "source": [
        "data = euro_newd.values\n",
        "data.dtype"
      ],
      "metadata": {
        "colab": {
          "base_uri": "https://localhost:8080/"
        },
        "id": "bM3mm5KLOYVM",
        "outputId": "90abd687-f7c1-4faa-e39a-1fa193d68c51"
      },
      "execution_count": 288,
      "outputs": [
        {
          "output_type": "execute_result",
          "data": {
            "text/plain": [
              "dtype('int64')"
            ]
          },
          "metadata": {},
          "execution_count": 288
        }
      ]
    },
    {
      "cell_type": "markdown",
      "source": [
        "### Data normalization\n",
        "Normalization is a process of rescaling the data from the original range so that all values are within the range of 0 and 1. Since neural networks tend to train better and faster on rescaled data, and it is possible in this case to estimate the minimum and maximum values in the available data, the daily deaths variable `new.d` has been normalized. "
      ],
      "metadata": {
        "id": "RnGLetUBuumH"
      }
    },
    {
      "cell_type": "code",
      "source": [
        "data = normalize_series(data, data.min(axis = 0), data.max(axis = 0))"
      ],
      "metadata": {
        "id": "CzwU4KwpPjic"
      },
      "execution_count": 289,
      "outputs": []
    },
    {
      "cell_type": "code",
      "source": [
        "data.min(), data.max()"
      ],
      "metadata": {
        "colab": {
          "base_uri": "https://localhost:8080/"
        },
        "id": "kdjMkFTdPK5E",
        "outputId": "a42ed0dd-cc0a-4bcf-98a3-b3fc49943004"
      },
      "execution_count": 290,
      "outputs": [
        {
          "output_type": "execute_result",
          "data": {
            "text/plain": [
              "(0.0, 1.0)"
            ]
          },
          "metadata": {},
          "execution_count": 290
        }
      ]
    },
    {
      "cell_type": "markdown",
      "source": [
        "### Split the data into train and test set"
      ],
      "metadata": {
        "id": "YGrnwRo0QooB"
      }
    },
    {
      "cell_type": "code",
      "source": [
        "SPLIT_TIME = int(len(data) * 0.8)\n",
        "x_train = data[: SPLIT_TIME]\n",
        "x_valid = data[SPLIT_TIME :]"
      ],
      "metadata": {
        "id": "2e4ZMDf-GphP"
      },
      "execution_count": 291,
      "outputs": []
    },
    {
      "cell_type": "code",
      "source": [
        "BATCH_SIZE = 32\n",
        "N_PAST = 10\n",
        "N_FUTURE = 10\n",
        "SHIFT = 1"
      ],
      "metadata": {
        "id": "gHr-hgcdG4El"
      },
      "execution_count": 292,
      "outputs": []
    },
    {
      "cell_type": "code",
      "source": [
        "# Code to create windowed train and validation datasets.\n",
        "train_set = windowed_dataset(series = x_train, \n",
        "                             batch_size = BATCH_SIZE,\n",
        "                             n_past = N_PAST, \n",
        "                             n_future = N_FUTURE,\n",
        "                             shift = SHIFT)\n",
        "\n",
        "valid_set = windowed_dataset(series = x_valid, \n",
        "                             batch_size = BATCH_SIZE,\n",
        "                             n_past = N_PAST, \n",
        "                             n_future = N_FUTURE,\n",
        "                             shift = SHIFT)"
      ],
      "metadata": {
        "id": "l7ZVVhlGHEFs"
      },
      "execution_count": 293,
      "outputs": []
    },
    {
      "cell_type": "code",
      "source": [
        "train_set, valid_set"
      ],
      "metadata": {
        "colab": {
          "base_uri": "https://localhost:8080/"
        },
        "id": "JvhdKUCT3M4v",
        "outputId": "8db13902-d413-4eba-ed16-937f9199434a"
      },
      "execution_count": 294,
      "outputs": [
        {
          "output_type": "execute_result",
          "data": {
            "text/plain": [
              "(<_PrefetchDataset element_spec=(TensorSpec(shape=(None, None, 1), dtype=tf.float64, name=None), TensorSpec(shape=(None, None, 1), dtype=tf.float64, name=None))>,\n",
              " <_PrefetchDataset element_spec=(TensorSpec(shape=(None, None, 1), dtype=tf.float64, name=None), TensorSpec(shape=(None, None, 1), dtype=tf.float64, name=None))>)"
            ]
          },
          "metadata": {},
          "execution_count": 294
        }
      ]
    },
    {
      "cell_type": "markdown",
      "source": [
        "### Create a LSTM model"
      ],
      "metadata": {
        "id": "DTNpusBeP4gk"
      }
    },
    {
      "cell_type": "code",
      "source": [
        "def create_model():\n",
        "\n",
        "  model = tf.keras.Sequential([\n",
        "      tf.keras.layers.LSTM(64, input_shape = [None, 1]),\n",
        "      tf.keras.layers.Dense(8, activation = 'relu'),\n",
        "      tf.keras.layers.Dense(1)\n",
        "  ])\n",
        "\n",
        "  model.compile(loss = 'mean_absolute_error', \n",
        "                 optimizer = tf.keras.optimizers.Adam(learning_rate=0.001), \n",
        "                 metrics =['mae', 'mse']) \n",
        "  return model\n",
        "\n",
        "def fit_model(model, train_set, valid_set):\n",
        "  # Specify training callbacks\n",
        "  checkpoint_cb = tf.keras.callbacks.ModelCheckpoint('lstm_model/', save_best_only = True) # save only the best model (one with the lowest validation loss)\n",
        "  # Fit the model\n",
        "  history = model.fit(train_set, \n",
        "                      epochs = 100, \n",
        "                      validation_data = valid_set, \n",
        "                      callbacks = [checkpoint_cb])\n",
        "  \n",
        "  return history"
      ],
      "metadata": {
        "id": "roR0x5-XdjGh"
      },
      "execution_count": 295,
      "outputs": []
    },
    {
      "cell_type": "code",
      "source": [
        "lstm_model = create_model()"
      ],
      "metadata": {
        "id": "z_T61oAml1Au"
      },
      "execution_count": 296,
      "outputs": []
    },
    {
      "cell_type": "code",
      "source": [
        "history = fit_model(lstm_model, train_set, valid_set)"
      ],
      "metadata": {
        "colab": {
          "base_uri": "https://localhost:8080/"
        },
        "id": "crDNdnHOl3y_",
        "outputId": "18f08b68-d27b-418a-f885-cd6eaf9af631"
      },
      "execution_count": 297,
      "outputs": [
        {
          "output_type": "stream",
          "name": "stdout",
          "text": [
            "Epoch 1/100\n",
            "      8/Unknown - 3s 7ms/step - loss: 0.1053 - mae: 0.1053 - mse: 0.0335   "
          ]
        },
        {
          "output_type": "stream",
          "name": "stderr",
          "text": [
            "WARNING:absl:Found untraced functions such as lstm_cell_8_layer_call_fn, lstm_cell_8_layer_call_and_return_conditional_losses while saving (showing 2 of 2). These functions will not be directly callable after loading.\n"
          ]
        },
        {
          "output_type": "stream",
          "name": "stdout",
          "text": [
            "\b\b\b\b\b\b\b\b\b\b\b\b\b\b\b\b\b\b\b\b\b\b\b\b\b\b\b\b\b\b\b\b\b\b\b\b\b\b\b\b\b\b\b\b\b\b\b\b\b\b\b\b\b\b\b\b\b\b\b\b\b\b\b\b\b\b\b\b\b\b\b\b\r14/14 [==============================] - 9s 492ms/step - loss: 0.2198 - mae: 0.2198 - mse: 0.0953 - val_loss: 0.0446 - val_mae: 0.0446 - val_mse: 0.0033\n",
            "Epoch 2/100\n",
            "14/14 [==============================] - 0s 11ms/step - loss: 0.1315 - mae: 0.1315 - mse: 0.0240 - val_loss: 0.1145 - val_mae: 0.1145 - val_mse: 0.0148\n",
            "Epoch 3/100\n",
            " 8/14 [================>.............] - ETA: 0s - loss: 0.1192 - mae: 0.1192 - mse: 0.0170"
          ]
        },
        {
          "output_type": "stream",
          "name": "stderr",
          "text": [
            "WARNING:absl:Found untraced functions such as lstm_cell_8_layer_call_fn, lstm_cell_8_layer_call_and_return_conditional_losses while saving (showing 2 of 2). These functions will not be directly callable after loading.\n"
          ]
        },
        {
          "output_type": "stream",
          "name": "stdout",
          "text": [
            "\b\b\b\b\b\b\b\b\b\b\b\b\b\b\b\b\b\b\b\b\b\b\b\b\b\b\b\b\b\b\b\b\b\b\b\b\b\b\b\b\b\b\b\b\b\b\b\b\b\b\b\b\b\b\b\b\b\b\b\b\b\b\b\b\b\b\b\b\b\b\b\b\b\b\b\b\b\b\b\b\b\b\b\b\b\b\b\b\b\b\b\r14/14 [==============================] - 4s 335ms/step - loss: 0.1244 - mae: 0.1244 - mse: 0.0207 - val_loss: 0.0428 - val_mae: 0.0428 - val_mse: 0.0034\n",
            "Epoch 4/100\n",
            " 8/14 [================>.............] - ETA: 0s - loss: 0.0591 - mae: 0.0591 - mse: 0.0074"
          ]
        },
        {
          "output_type": "stream",
          "name": "stderr",
          "text": [
            "WARNING:absl:Found untraced functions such as lstm_cell_8_layer_call_fn, lstm_cell_8_layer_call_and_return_conditional_losses while saving (showing 2 of 2). These functions will not be directly callable after loading.\n"
          ]
        },
        {
          "output_type": "stream",
          "name": "stdout",
          "text": [
            "\b\b\b\b\b\b\b\b\b\b\b\b\b\b\b\b\b\b\b\b\b\b\b\b\b\b\b\b\b\b\b\b\b\b\b\b\b\b\b\b\b\b\b\b\b\b\b\b\b\b\b\b\b\b\b\b\b\b\b\b\b\b\b\b\b\b\b\b\b\b\b\b\b\b\b\b\b\b\b\b\b\b\b\b\b\b\b\b\b\b\b\r14/14 [==============================] - 4s 339ms/step - loss: 0.0934 - mae: 0.0934 - mse: 0.0167 - val_loss: 0.0378 - val_mae: 0.0378 - val_mse: 0.0026\n",
            "Epoch 5/100\n",
            "14/14 [==============================] - ETA: 0s - loss: 0.0877 - mae: 0.0877 - mse: 0.0179"
          ]
        },
        {
          "output_type": "stream",
          "name": "stderr",
          "text": [
            "WARNING:absl:Found untraced functions such as lstm_cell_8_layer_call_fn, lstm_cell_8_layer_call_and_return_conditional_losses while saving (showing 2 of 2). These functions will not be directly callable after loading.\n"
          ]
        },
        {
          "output_type": "stream",
          "name": "stdout",
          "text": [
            "\b\b\b\b\b\b\b\b\b\b\b\b\b\b\b\b\b\b\b\b\b\b\b\b\b\b\b\b\b\b\b\b\b\b\b\b\b\b\b\b\b\b\b\b\b\b\b\b\b\b\b\b\b\b\b\b\b\b\b\b\b\b\b\b\b\b\b\b\b\b\b\b\b\b\b\b\b\b\b\b\b\b\b\b\b\b\b\b\b\b\b\r14/14 [==============================] - 5s 381ms/step - loss: 0.0877 - mae: 0.0877 - mse: 0.0179 - val_loss: 0.0374 - val_mae: 0.0374 - val_mse: 0.0032\n",
            "Epoch 6/100\n",
            " 9/14 [==================>...........] - ETA: 0s - loss: 0.0653 - mae: 0.0653 - mse: 0.0120    "
          ]
        },
        {
          "output_type": "stream",
          "name": "stderr",
          "text": [
            "WARNING:absl:Found untraced functions such as lstm_cell_8_layer_call_fn, lstm_cell_8_layer_call_and_return_conditional_losses while saving (showing 2 of 2). These functions will not be directly callable after loading.\n"
          ]
        },
        {
          "output_type": "stream",
          "name": "stdout",
          "text": [
            "\b\b\b\b\b\b\b\b\b\b\b\b\b\b\b\b\b\b\b\b\b\b\b\b\b\b\b\b\b\b\b\b\b\b\b\b\b\b\b\b\b\b\b\b\b\b\b\b\b\b\b\b\b\b\b\b\b\b\b\b\b\b\b\b\b\b\b\b\b\b\b\b\b\b\b\b\b\b\b\b\b\b\b\b\b\b\b\b\b\b\b\r14/14 [==============================] - 4s 311ms/step - loss: 0.0934 - mae: 0.0934 - mse: 0.0192 - val_loss: 0.0315 - val_mae: 0.0315 - val_mse: 0.0021\n",
            "Epoch 7/100\n",
            "14/14 [==============================] - 0s 17ms/step - loss: 0.0855 - mae: 0.0855 - mse: 0.0156 - val_loss: 0.0375 - val_mae: 0.0375 - val_mse: 0.0030\n",
            "Epoch 8/100\n",
            "14/14 [==============================] - 0s 20ms/step - loss: 0.0853 - mae: 0.0853 - mse: 0.0157 - val_loss: 0.0374 - val_mae: 0.0374 - val_mse: 0.0032\n",
            "Epoch 9/100\n",
            "14/14 [==============================] - 0s 21ms/step - loss: 0.0862 - mae: 0.0862 - mse: 0.0152 - val_loss: 0.0347 - val_mae: 0.0347 - val_mse: 0.0026\n",
            "Epoch 10/100\n",
            "14/14 [==============================] - 0s 19ms/step - loss: 0.0828 - mae: 0.0828 - mse: 0.0151 - val_loss: 0.0383 - val_mae: 0.0383 - val_mse: 0.0034\n",
            "Epoch 11/100\n",
            "14/14 [==============================] - 0s 19ms/step - loss: 0.0855 - mae: 0.0855 - mse: 0.0155 - val_loss: 0.0342 - val_mae: 0.0342 - val_mse: 0.0026\n",
            "Epoch 12/100\n",
            "14/14 [==============================] - 0s 17ms/step - loss: 0.0825 - mae: 0.0825 - mse: 0.0148 - val_loss: 0.0364 - val_mae: 0.0364 - val_mse: 0.0030\n",
            "Epoch 13/100\n",
            "14/14 [==============================] - 0s 21ms/step - loss: 0.0830 - mae: 0.0830 - mse: 0.0149 - val_loss: 0.0368 - val_mae: 0.0368 - val_mse: 0.0031\n",
            "Epoch 14/100\n",
            "14/14 [==============================] - 0s 21ms/step - loss: 0.0840 - mae: 0.0840 - mse: 0.0148 - val_loss: 0.0348 - val_mae: 0.0348 - val_mse: 0.0027\n",
            "Epoch 15/100\n",
            "14/14 [==============================] - 0s 20ms/step - loss: 0.0815 - mae: 0.0815 - mse: 0.0145 - val_loss: 0.0386 - val_mae: 0.0386 - val_mse: 0.0034\n",
            "Epoch 16/100\n",
            "14/14 [==============================] - 0s 24ms/step - loss: 0.0844 - mae: 0.0844 - mse: 0.0150 - val_loss: 0.0341 - val_mae: 0.0341 - val_mse: 0.0026\n",
            "Epoch 17/100\n",
            "14/14 [==============================] - 0s 20ms/step - loss: 0.0810 - mae: 0.0810 - mse: 0.0144 - val_loss: 0.0374 - val_mae: 0.0374 - val_mse: 0.0032\n",
            "Epoch 18/100\n",
            "14/14 [==============================] - 0s 21ms/step - loss: 0.0825 - mae: 0.0825 - mse: 0.0146 - val_loss: 0.0356 - val_mae: 0.0356 - val_mse: 0.0029\n",
            "Epoch 19/100\n",
            "14/14 [==============================] - 0s 11ms/step - loss: 0.0818 - mae: 0.0818 - mse: 0.0142 - val_loss: 0.0352 - val_mae: 0.0352 - val_mse: 0.0028\n",
            "Epoch 20/100\n",
            "14/14 [==============================] - 0s 12ms/step - loss: 0.0807 - mae: 0.0807 - mse: 0.0141 - val_loss: 0.0375 - val_mae: 0.0375 - val_mse: 0.0032\n",
            "Epoch 21/100\n",
            "14/14 [==============================] - 0s 10ms/step - loss: 0.0828 - mae: 0.0828 - mse: 0.0144 - val_loss: 0.0344 - val_mae: 0.0344 - val_mse: 0.0027\n",
            "Epoch 22/100\n",
            "14/14 [==============================] - 0s 11ms/step - loss: 0.0798 - mae: 0.0798 - mse: 0.0139 - val_loss: 0.0390 - val_mae: 0.0390 - val_mse: 0.0035\n",
            "Epoch 23/100\n",
            "14/14 [==============================] - 0s 11ms/step - loss: 0.0825 - mae: 0.0825 - mse: 0.0144 - val_loss: 0.0341 - val_mae: 0.0341 - val_mse: 0.0026\n",
            "Epoch 24/100\n",
            "14/14 [==============================] - 0s 12ms/step - loss: 0.0793 - mae: 0.0793 - mse: 0.0137 - val_loss: 0.0388 - val_mae: 0.0388 - val_mse: 0.0035\n",
            "Epoch 25/100\n",
            "14/14 [==============================] - 0s 13ms/step - loss: 0.0815 - mae: 0.0815 - mse: 0.0142 - val_loss: 0.0349 - val_mae: 0.0349 - val_mse: 0.0028\n",
            "Epoch 26/100\n",
            "14/14 [==============================] - 0s 12ms/step - loss: 0.0798 - mae: 0.0798 - mse: 0.0136 - val_loss: 0.0354 - val_mae: 0.0354 - val_mse: 0.0029\n",
            "Epoch 27/100\n",
            "14/14 [==============================] - 0s 11ms/step - loss: 0.0795 - mae: 0.0795 - mse: 0.0137 - val_loss: 0.0371 - val_mae: 0.0371 - val_mse: 0.0032\n",
            "Epoch 28/100\n",
            "14/14 [==============================] - 0s 11ms/step - loss: 0.0806 - mae: 0.0806 - mse: 0.0136 - val_loss: 0.0346 - val_mae: 0.0346 - val_mse: 0.0027\n",
            "Epoch 29/100\n",
            "14/14 [==============================] - 0s 11ms/step - loss: 0.0783 - mae: 0.0783 - mse: 0.0133 - val_loss: 0.0394 - val_mae: 0.0394 - val_mse: 0.0035\n",
            "Epoch 30/100\n",
            "14/14 [==============================] - 0s 11ms/step - loss: 0.0816 - mae: 0.0816 - mse: 0.0141 - val_loss: 0.0357 - val_mae: 0.0357 - val_mse: 0.0030\n",
            "Epoch 31/100\n",
            "14/14 [==============================] - 0s 10ms/step - loss: 0.0786 - mae: 0.0786 - mse: 0.0133 - val_loss: 0.0360 - val_mae: 0.0360 - val_mse: 0.0030\n",
            "Epoch 32/100\n",
            "14/14 [==============================] - 0s 12ms/step - loss: 0.0797 - mae: 0.0797 - mse: 0.0140 - val_loss: 0.0416 - val_mae: 0.0416 - val_mse: 0.0037\n",
            "Epoch 33/100\n",
            "14/14 [==============================] - 0s 11ms/step - loss: 0.0811 - mae: 0.0811 - mse: 0.0132 - val_loss: 0.0346 - val_mae: 0.0346 - val_mse: 0.0026\n",
            "Epoch 34/100\n",
            "14/14 [==============================] - 0s 11ms/step - loss: 0.0782 - mae: 0.0782 - mse: 0.0131 - val_loss: 0.0436 - val_mae: 0.0436 - val_mse: 0.0039\n",
            "Epoch 35/100\n",
            "14/14 [==============================] - 0s 11ms/step - loss: 0.0838 - mae: 0.0838 - mse: 0.0145 - val_loss: 0.0350 - val_mae: 0.0350 - val_mse: 0.0028\n",
            "Epoch 36/100\n",
            "14/14 [==============================] - 0s 14ms/step - loss: 0.0782 - mae: 0.0782 - mse: 0.0137 - val_loss: 0.0363 - val_mae: 0.0363 - val_mse: 0.0031\n",
            "Epoch 37/100\n",
            "14/14 [==============================] - 0s 10ms/step - loss: 0.0809 - mae: 0.0809 - mse: 0.0148 - val_loss: 0.0406 - val_mae: 0.0406 - val_mse: 0.0035\n",
            "Epoch 38/100\n",
            "14/14 [==============================] - 0s 10ms/step - loss: 0.0806 - mae: 0.0806 - mse: 0.0130 - val_loss: 0.0349 - val_mae: 0.0349 - val_mse: 0.0025\n",
            "Epoch 39/100\n",
            "14/14 [==============================] - 0s 10ms/step - loss: 0.0790 - mae: 0.0790 - mse: 0.0131 - val_loss: 0.0432 - val_mae: 0.0432 - val_mse: 0.0038\n",
            "Epoch 40/100\n",
            "14/14 [==============================] - 0s 10ms/step - loss: 0.0822 - mae: 0.0822 - mse: 0.0134 - val_loss: 0.0331 - val_mae: 0.0331 - val_mse: 0.0025\n",
            "Epoch 41/100\n",
            "14/14 [==============================] - 0s 11ms/step - loss: 0.0759 - mae: 0.0759 - mse: 0.0127 - val_loss: 0.0378 - val_mae: 0.0378 - val_mse: 0.0032\n",
            "Epoch 42/100\n",
            "14/14 [==============================] - 0s 12ms/step - loss: 0.0794 - mae: 0.0794 - mse: 0.0139 - val_loss: 0.0365 - val_mae: 0.0365 - val_mse: 0.0031\n",
            "Epoch 43/100\n",
            "14/14 [==============================] - 0s 10ms/step - loss: 0.0769 - mae: 0.0769 - mse: 0.0130 - val_loss: 0.0339 - val_mae: 0.0339 - val_mse: 0.0026\n",
            "Epoch 44/100\n",
            "14/14 [==============================] - 0s 11ms/step - loss: 0.0777 - mae: 0.0777 - mse: 0.0135 - val_loss: 0.0431 - val_mae: 0.0431 - val_mse: 0.0037\n",
            "Epoch 45/100\n",
            "14/14 [==============================] - 0s 12ms/step - loss: 0.0800 - mae: 0.0800 - mse: 0.0126 - val_loss: 0.0341 - val_mae: 0.0341 - val_mse: 0.0024\n",
            "Epoch 46/100\n",
            "14/14 [==============================] - 0s 11ms/step - loss: 0.0765 - mae: 0.0765 - mse: 0.0125 - val_loss: 0.0421 - val_mae: 0.0421 - val_mse: 0.0036\n",
            "Epoch 47/100\n",
            "14/14 [==============================] - 0s 10ms/step - loss: 0.0814 - mae: 0.0814 - mse: 0.0136 - val_loss: 0.0338 - val_mae: 0.0338 - val_mse: 0.0026\n",
            "Epoch 48/100\n",
            "14/14 [==============================] - 0s 11ms/step - loss: 0.0759 - mae: 0.0759 - mse: 0.0131 - val_loss: 0.0350 - val_mae: 0.0350 - val_mse: 0.0028\n",
            "Epoch 49/100\n",
            "14/14 [==============================] - 0s 10ms/step - loss: 0.0802 - mae: 0.0802 - mse: 0.0149 - val_loss: 0.0366 - val_mae: 0.0366 - val_mse: 0.0030\n",
            "Epoch 50/100\n",
            "14/14 [==============================] - 0s 11ms/step - loss: 0.0776 - mae: 0.0776 - mse: 0.0132 - val_loss: 0.0347 - val_mae: 0.0347 - val_mse: 0.0025\n",
            "Epoch 51/100\n",
            "14/14 [==============================] - 0s 11ms/step - loss: 0.0776 - mae: 0.0776 - mse: 0.0130 - val_loss: 0.0416 - val_mae: 0.0416 - val_mse: 0.0035\n",
            "Epoch 52/100\n",
            "14/14 [==============================] - 0s 11ms/step - loss: 0.0799 - mae: 0.0799 - mse: 0.0123 - val_loss: 0.0326 - val_mae: 0.0326 - val_mse: 0.0023\n",
            "Epoch 53/100\n",
            "14/14 [==============================] - 0s 11ms/step - loss: 0.0739 - mae: 0.0739 - mse: 0.0120 - val_loss: 0.0372 - val_mae: 0.0372 - val_mse: 0.0031\n",
            "Epoch 54/100\n",
            "14/14 [==============================] - 0s 11ms/step - loss: 0.0772 - mae: 0.0772 - mse: 0.0128 - val_loss: 0.0336 - val_mae: 0.0336 - val_mse: 0.0025\n",
            "Epoch 55/100\n",
            "14/14 [==============================] - 0s 10ms/step - loss: 0.0740 - mae: 0.0740 - mse: 0.0124 - val_loss: 0.0349 - val_mae: 0.0349 - val_mse: 0.0028\n",
            "Epoch 56/100\n",
            "14/14 [==============================] - 0s 11ms/step - loss: 0.0768 - mae: 0.0768 - mse: 0.0134 - val_loss: 0.0365 - val_mae: 0.0365 - val_mse: 0.0030\n",
            "Epoch 57/100\n",
            "14/14 [==============================] - 0s 10ms/step - loss: 0.0755 - mae: 0.0755 - mse: 0.0127 - val_loss: 0.0333 - val_mae: 0.0333 - val_mse: 0.0023\n",
            "Epoch 58/100\n",
            "14/14 [==============================] - 0s 11ms/step - loss: 0.0748 - mae: 0.0748 - mse: 0.0125 - val_loss: 0.0440 - val_mae: 0.0440 - val_mse: 0.0037\n",
            "Epoch 59/100\n",
            "14/14 [==============================] - 0s 19ms/step - loss: 0.0786 - mae: 0.0786 - mse: 0.0121 - val_loss: 0.0339 - val_mae: 0.0339 - val_mse: 0.0023\n",
            "Epoch 60/100\n",
            "14/14 [==============================] - 0s 17ms/step - loss: 0.0742 - mae: 0.0742 - mse: 0.0119 - val_loss: 0.0394 - val_mae: 0.0394 - val_mse: 0.0032\n",
            "Epoch 61/100\n",
            "14/14 [==============================] - 0s 18ms/step - loss: 0.0795 - mae: 0.0795 - mse: 0.0133 - val_loss: 0.0336 - val_mae: 0.0336 - val_mse: 0.0025\n",
            "Epoch 62/100\n",
            "14/14 [==============================] - 0s 20ms/step - loss: 0.0749 - mae: 0.0749 - mse: 0.0131 - val_loss: 0.0328 - val_mae: 0.0328 - val_mse: 0.0024\n",
            "Epoch 63/100\n",
            "14/14 [==============================] - 0s 19ms/step - loss: 0.0769 - mae: 0.0769 - mse: 0.0138 - val_loss: 0.0359 - val_mae: 0.0359 - val_mse: 0.0028\n",
            "Epoch 64/100\n",
            "14/14 [==============================] - 0s 19ms/step - loss: 0.0753 - mae: 0.0753 - mse: 0.0125 - val_loss: 0.0342 - val_mae: 0.0342 - val_mse: 0.0024\n",
            "Epoch 65/100\n",
            "14/14 [==============================] - 0s 20ms/step - loss: 0.0755 - mae: 0.0755 - mse: 0.0122 - val_loss: 0.0396 - val_mae: 0.0396 - val_mse: 0.0032\n",
            "Epoch 66/100\n",
            "14/14 [==============================] - 0s 20ms/step - loss: 0.0772 - mae: 0.0772 - mse: 0.0117 - val_loss: 0.0328 - val_mae: 0.0328 - val_mse: 0.0022\n",
            "Epoch 67/100\n",
            "14/14 [==============================] - 0s 17ms/step - loss: 0.0724 - mae: 0.0724 - mse: 0.0116 - val_loss: 0.0359 - val_mae: 0.0359 - val_mse: 0.0028\n",
            "Epoch 68/100\n",
            "14/14 [==============================] - 0s 20ms/step - loss: 0.0756 - mae: 0.0756 - mse: 0.0124 - val_loss: 0.0333 - val_mae: 0.0333 - val_mse: 0.0024\n",
            "Epoch 69/100\n",
            "14/14 [==============================] - 0s 19ms/step - loss: 0.0728 - mae: 0.0728 - mse: 0.0123 - val_loss: 0.0334 - val_mae: 0.0334 - val_mse: 0.0024\n",
            "Epoch 70/100\n",
            "14/14 [==============================] - 0s 16ms/step - loss: 0.0755 - mae: 0.0755 - mse: 0.0131 - val_loss: 0.0351 - val_mae: 0.0351 - val_mse: 0.0027\n",
            "Epoch 71/100\n",
            "14/14 [==============================] - 0s 10ms/step - loss: 0.0739 - mae: 0.0739 - mse: 0.0127 - val_loss: 0.0327 - val_mae: 0.0327 - val_mse: 0.0023\n",
            "Epoch 72/100\n",
            "14/14 [==============================] - 0s 11ms/step - loss: 0.0744 - mae: 0.0744 - mse: 0.0127 - val_loss: 0.0392 - val_mae: 0.0392 - val_mse: 0.0031\n",
            "Epoch 73/100\n",
            "14/14 [==============================] - 0s 11ms/step - loss: 0.0760 - mae: 0.0760 - mse: 0.0117 - val_loss: 0.0342 - val_mae: 0.0342 - val_mse: 0.0023\n",
            "Epoch 74/100\n",
            "14/14 [==============================] - 0s 10ms/step - loss: 0.0734 - mae: 0.0734 - mse: 0.0116 - val_loss: 0.0398 - val_mae: 0.0398 - val_mse: 0.0031\n",
            "Epoch 75/100\n",
            "14/14 [==============================] - 0s 11ms/step - loss: 0.0765 - mae: 0.0765 - mse: 0.0116 - val_loss: 0.0331 - val_mae: 0.0331 - val_mse: 0.0022\n",
            "Epoch 76/100\n",
            "14/14 [==============================] - 0s 15ms/step - loss: 0.0720 - mae: 0.0720 - mse: 0.0116 - val_loss: 0.0355 - val_mae: 0.0355 - val_mse: 0.0027\n",
            "Epoch 77/100\n",
            "14/14 [==============================] - 0s 10ms/step - loss: 0.0755 - mae: 0.0755 - mse: 0.0126 - val_loss: 0.0332 - val_mae: 0.0332 - val_mse: 0.0024\n",
            "Epoch 78/100\n",
            "14/14 [==============================] - 0s 11ms/step - loss: 0.0728 - mae: 0.0728 - mse: 0.0125 - val_loss: 0.0325 - val_mae: 0.0325 - val_mse: 0.0023\n",
            "Epoch 79/100\n",
            "14/14 [==============================] - 0s 10ms/step - loss: 0.0756 - mae: 0.0756 - mse: 0.0133 - val_loss: 0.0343 - val_mae: 0.0343 - val_mse: 0.0025\n",
            "Epoch 80/100\n",
            "14/14 [==============================] - 0s 11ms/step - loss: 0.0730 - mae: 0.0730 - mse: 0.0123 - val_loss: 0.0337 - val_mae: 0.0337 - val_mse: 0.0024\n",
            "Epoch 81/100\n",
            "14/14 [==============================] - 0s 10ms/step - loss: 0.0738 - mae: 0.0738 - mse: 0.0122 - val_loss: 0.0376 - val_mae: 0.0376 - val_mse: 0.0028\n",
            "Epoch 82/100\n",
            "14/14 [==============================] - 0s 11ms/step - loss: 0.0747 - mae: 0.0747 - mse: 0.0112 - val_loss: 0.0336 - val_mae: 0.0336 - val_mse: 0.0023\n",
            "Epoch 83/100\n",
            "14/14 [==============================] - 0s 11ms/step - loss: 0.0725 - mae: 0.0725 - mse: 0.0112 - val_loss: 0.0367 - val_mae: 0.0367 - val_mse: 0.0028\n",
            "Epoch 84/100\n",
            "14/14 [==============================] - 0s 12ms/step - loss: 0.0739 - mae: 0.0739 - mse: 0.0114 - val_loss: 0.0330 - val_mae: 0.0330 - val_mse: 0.0022\n",
            "Epoch 85/100\n",
            "14/14 [==============================] - 0s 11ms/step - loss: 0.0707 - mae: 0.0707 - mse: 0.0113 - val_loss: 0.0352 - val_mae: 0.0352 - val_mse: 0.0026\n",
            "Epoch 86/100\n",
            "14/14 [==============================] - 0s 10ms/step - loss: 0.0739 - mae: 0.0739 - mse: 0.0122 - val_loss: 0.0333 - val_mae: 0.0333 - val_mse: 0.0024\n",
            "Epoch 87/100\n",
            "14/14 [==============================] - 0s 10ms/step - loss: 0.0713 - mae: 0.0713 - mse: 0.0119 - val_loss: 0.0334 - val_mae: 0.0334 - val_mse: 0.0024\n",
            "Epoch 88/100\n",
            "14/14 [==============================] - 0s 11ms/step - loss: 0.0738 - mae: 0.0738 - mse: 0.0127 - val_loss: 0.0346 - val_mae: 0.0346 - val_mse: 0.0026\n",
            "Epoch 89/100\n",
            "14/14 [==============================] - 0s 10ms/step - loss: 0.0717 - mae: 0.0717 - mse: 0.0119 - val_loss: 0.0332 - val_mae: 0.0332 - val_mse: 0.0023\n",
            "Epoch 90/100\n",
            "14/14 [==============================] - 0s 10ms/step - loss: 0.0728 - mae: 0.0728 - mse: 0.0121 - val_loss: 0.0379 - val_mae: 0.0379 - val_mse: 0.0028\n",
            "Epoch 91/100\n",
            "14/14 [==============================] - 0s 11ms/step - loss: 0.0734 - mae: 0.0734 - mse: 0.0112 - val_loss: 0.0344 - val_mae: 0.0344 - val_mse: 0.0023\n",
            "Epoch 92/100\n",
            "14/14 [==============================] - 0s 10ms/step - loss: 0.0722 - mae: 0.0722 - mse: 0.0111 - val_loss: 0.0387 - val_mae: 0.0387 - val_mse: 0.0029\n",
            "Epoch 93/100\n",
            "14/14 [==============================] - 0s 11ms/step - loss: 0.0746 - mae: 0.0746 - mse: 0.0112 - val_loss: 0.0334 - val_mae: 0.0334 - val_mse: 0.0022\n",
            "Epoch 94/100\n",
            "14/14 [==============================] - 0s 11ms/step - loss: 0.0710 - mae: 0.0710 - mse: 0.0112 - val_loss: 0.0360 - val_mae: 0.0360 - val_mse: 0.0027\n",
            "Epoch 95/100\n",
            "14/14 [==============================] - 0s 11ms/step - loss: 0.0741 - mae: 0.0741 - mse: 0.0122 - val_loss: 0.0331 - val_mae: 0.0331 - val_mse: 0.0023\n",
            "Epoch 96/100\n",
            "14/14 [==============================] - 0s 11ms/step - loss: 0.0711 - mae: 0.0711 - mse: 0.0119 - val_loss: 0.0339 - val_mae: 0.0339 - val_mse: 0.0024\n",
            "Epoch 97/100\n",
            "14/14 [==============================] - 0s 12ms/step - loss: 0.0752 - mae: 0.0752 - mse: 0.0133 - val_loss: 0.0338 - val_mae: 0.0338 - val_mse: 0.0024\n",
            "Epoch 98/100\n",
            "14/14 [==============================] - 0s 11ms/step - loss: 0.0714 - mae: 0.0714 - mse: 0.0120 - val_loss: 0.0338 - val_mae: 0.0338 - val_mse: 0.0025\n",
            "Epoch 99/100\n",
            "14/14 [==============================] - 0s 11ms/step - loss: 0.0733 - mae: 0.0733 - mse: 0.0123 - val_loss: 0.0361 - val_mae: 0.0361 - val_mse: 0.0026\n",
            "Epoch 100/100\n",
            "14/14 [==============================] - 0s 11ms/step - loss: 0.0725 - mae: 0.0725 - mse: 0.0109 - val_loss: 0.0339 - val_mae: 0.0339 - val_mse: 0.0023\n"
          ]
        }
      ]
    },
    {
      "cell_type": "code",
      "source": [
        "# Load the best performing model\n",
        "lstm_model = tf.keras.models.load_model('lstm_model/')"
      ],
      "metadata": {
        "id": "ruEWC1OEfG2R"
      },
      "execution_count": 298,
      "outputs": []
    },
    {
      "cell_type": "markdown",
      "source": [
        "### Save a model"
      ],
      "metadata": {
        "id": "b9H-ElTdKE1f"
      }
    },
    {
      "cell_type": "code",
      "source": [
        "lstm_model.save('lstm_model/lstm_model.h5')"
      ],
      "metadata": {
        "id": "g4o6abswIIZe"
      },
      "execution_count": 299,
      "outputs": []
    },
    {
      "cell_type": "markdown",
      "source": [
        "### LSTM Model Evaluation"
      ],
      "metadata": {
        "id": "IDZqFx-e2fe4"
      }
    },
    {
      "cell_type": "code",
      "source": [
        "# Creating a data frame of test predictions vs actuals\n",
        "lstm_test_pred = lstm_model.predict(valid_set)"
      ],
      "metadata": {
        "colab": {
          "base_uri": "https://localhost:8080/"
        },
        "id": "CyOb-lo0xZvZ",
        "outputId": "945fb4f1-2cee-46c5-eee3-1d84227fba54"
      },
      "execution_count": 300,
      "outputs": [
        {
          "output_type": "stream",
          "name": "stdout",
          "text": [
            "3/3 [==============================] - 0s 14ms/step\n"
          ]
        }
      ]
    },
    {
      "cell_type": "code",
      "source": [
        "# This function evaluates the model\n",
        "\n",
        "def model_forecast(model, series, window_size, batch_size):\n",
        "  ds = tf.data.Dataset.from_tensor_slices(series)\n",
        "  ds = ds.window(window_size, shift = 1, drop_remainder = True)\n",
        "  ds = ds.flat_map(lambda w: w.batch(window_size))\n",
        "  ds = ds.batch(batch_size, drop_remainder = True).prefetch(1)\n",
        "  forecast = model.predict(ds)\n",
        "\n",
        "  return forecast"
      ],
      "metadata": {
        "id": "GNAyb-If13sf"
      },
      "execution_count": 301,
      "outputs": []
    },
    {
      "cell_type": "code",
      "source": [
        "rnn_forecast = model_forecast(lstm_model, normalize_series(data, min(data), max(data)), N_PAST, BATCH_SIZE)\n",
        "rnn_forecast = rnn_forecast[SPLIT_TIME - N_PAST:-1, 0]\n",
        "\n",
        "x_valid = np.squeeze(x_valid[:rnn_forecast.shape[0]])\n",
        "result = tf.keras.metrics.mean_absolute_error(x_valid, rnn_forecast).numpy()"
      ],
      "metadata": {
        "colab": {
          "base_uri": "https://localhost:8080/"
        },
        "id": "Onp6zsgeOMD_",
        "outputId": "92b4018e-e33d-489c-a847-4749f40fb35d"
      },
      "execution_count": 302,
      "outputs": [
        {
          "output_type": "stream",
          "name": "stdout",
          "text": [
            "17/17 [==============================] - 0s 6ms/step\n"
          ]
        }
      ]
    },
    {
      "cell_type": "code",
      "source": [
        "lstm_results = evaluate_preds(y_true = x_valid,\n",
        "                                 y_pred = rnn_forecast)\n",
        "\n",
        "lstm_results"
      ],
      "metadata": {
        "colab": {
          "base_uri": "https://localhost:8080/"
        },
        "id": "lHjS-3NZOQeH",
        "outputId": "59888689-b8c3-4a29-e0d0-969988e378cd"
      },
      "execution_count": 303,
      "outputs": [
        {
          "output_type": "execute_result",
          "data": {
            "text/plain": [
              "{'mae': 0.036307342,\n",
              " 'mase': 1.0593734,\n",
              " 'mape': 17.840784,\n",
              " 'mse': 0.0025534362,\n",
              " 'rmse': 0.050531536,\n",
              " 'r2': 0.8275286448325453}"
            ]
          },
          "metadata": {},
          "execution_count": 303
        }
      ]
    },
    {
      "cell_type": "code",
      "source": [
        "lstm_results_df = pd.DataFrame({'Test Predictions': rnn_forecast, \n",
        "                                   'Actuals': x_valid})\n",
        "\n",
        "lstm_results_df"
      ],
      "metadata": {
        "colab": {
          "base_uri": "https://localhost:8080/",
          "height": 423
        },
        "id": "_lPwin1dOZVy",
        "outputId": "35eaedfa-bee7-4950-c527-c7bc63f69503"
      },
      "execution_count": 304,
      "outputs": [
        {
          "output_type": "execute_result",
          "data": {
            "text/plain": [
              "     Test Predictions   Actuals\n",
              "0            0.422763  0.568308\n",
              "1            0.435904  0.508340\n",
              "2            0.444865  0.496955\n",
              "3            0.449620  0.395420\n",
              "4            0.436912  0.286338\n",
              "..                ...       ...\n",
              "100          0.123076  0.136484\n",
              "101          0.123684  0.136352\n",
              "102          0.124611  0.115568\n",
              "103          0.124147  0.126555\n",
              "104          0.123724  0.152237\n",
              "\n",
              "[105 rows x 2 columns]"
            ],
            "text/html": [
              "\n",
              "  <div id=\"df-0e6ed7dc-eff1-4e9e-90dc-8e5f7422c6b2\">\n",
              "    <div class=\"colab-df-container\">\n",
              "      <div>\n",
              "<style scoped>\n",
              "    .dataframe tbody tr th:only-of-type {\n",
              "        vertical-align: middle;\n",
              "    }\n",
              "\n",
              "    .dataframe tbody tr th {\n",
              "        vertical-align: top;\n",
              "    }\n",
              "\n",
              "    .dataframe thead th {\n",
              "        text-align: right;\n",
              "    }\n",
              "</style>\n",
              "<table border=\"1\" class=\"dataframe\">\n",
              "  <thead>\n",
              "    <tr style=\"text-align: right;\">\n",
              "      <th></th>\n",
              "      <th>Test Predictions</th>\n",
              "      <th>Actuals</th>\n",
              "    </tr>\n",
              "  </thead>\n",
              "  <tbody>\n",
              "    <tr>\n",
              "      <th>0</th>\n",
              "      <td>0.422763</td>\n",
              "      <td>0.568308</td>\n",
              "    </tr>\n",
              "    <tr>\n",
              "      <th>1</th>\n",
              "      <td>0.435904</td>\n",
              "      <td>0.508340</td>\n",
              "    </tr>\n",
              "    <tr>\n",
              "      <th>2</th>\n",
              "      <td>0.444865</td>\n",
              "      <td>0.496955</td>\n",
              "    </tr>\n",
              "    <tr>\n",
              "      <th>3</th>\n",
              "      <td>0.449620</td>\n",
              "      <td>0.395420</td>\n",
              "    </tr>\n",
              "    <tr>\n",
              "      <th>4</th>\n",
              "      <td>0.436912</td>\n",
              "      <td>0.286338</td>\n",
              "    </tr>\n",
              "    <tr>\n",
              "      <th>...</th>\n",
              "      <td>...</td>\n",
              "      <td>...</td>\n",
              "    </tr>\n",
              "    <tr>\n",
              "      <th>100</th>\n",
              "      <td>0.123076</td>\n",
              "      <td>0.136484</td>\n",
              "    </tr>\n",
              "    <tr>\n",
              "      <th>101</th>\n",
              "      <td>0.123684</td>\n",
              "      <td>0.136352</td>\n",
              "    </tr>\n",
              "    <tr>\n",
              "      <th>102</th>\n",
              "      <td>0.124611</td>\n",
              "      <td>0.115568</td>\n",
              "    </tr>\n",
              "    <tr>\n",
              "      <th>103</th>\n",
              "      <td>0.124147</td>\n",
              "      <td>0.126555</td>\n",
              "    </tr>\n",
              "    <tr>\n",
              "      <th>104</th>\n",
              "      <td>0.123724</td>\n",
              "      <td>0.152237</td>\n",
              "    </tr>\n",
              "  </tbody>\n",
              "</table>\n",
              "<p>105 rows × 2 columns</p>\n",
              "</div>\n",
              "      <button class=\"colab-df-convert\" onclick=\"convertToInteractive('df-0e6ed7dc-eff1-4e9e-90dc-8e5f7422c6b2')\"\n",
              "              title=\"Convert this dataframe to an interactive table.\"\n",
              "              style=\"display:none;\">\n",
              "        \n",
              "  <svg xmlns=\"http://www.w3.org/2000/svg\" height=\"24px\"viewBox=\"0 0 24 24\"\n",
              "       width=\"24px\">\n",
              "    <path d=\"M0 0h24v24H0V0z\" fill=\"none\"/>\n",
              "    <path d=\"M18.56 5.44l.94 2.06.94-2.06 2.06-.94-2.06-.94-.94-2.06-.94 2.06-2.06.94zm-11 1L8.5 8.5l.94-2.06 2.06-.94-2.06-.94L8.5 2.5l-.94 2.06-2.06.94zm10 10l.94 2.06.94-2.06 2.06-.94-2.06-.94-.94-2.06-.94 2.06-2.06.94z\"/><path d=\"M17.41 7.96l-1.37-1.37c-.4-.4-.92-.59-1.43-.59-.52 0-1.04.2-1.43.59L10.3 9.45l-7.72 7.72c-.78.78-.78 2.05 0 2.83L4 21.41c.39.39.9.59 1.41.59.51 0 1.02-.2 1.41-.59l7.78-7.78 2.81-2.81c.8-.78.8-2.07 0-2.86zM5.41 20L4 18.59l7.72-7.72 1.47 1.35L5.41 20z\"/>\n",
              "  </svg>\n",
              "      </button>\n",
              "      \n",
              "  <style>\n",
              "    .colab-df-container {\n",
              "      display:flex;\n",
              "      flex-wrap:wrap;\n",
              "      gap: 12px;\n",
              "    }\n",
              "\n",
              "    .colab-df-convert {\n",
              "      background-color: #E8F0FE;\n",
              "      border: none;\n",
              "      border-radius: 50%;\n",
              "      cursor: pointer;\n",
              "      display: none;\n",
              "      fill: #1967D2;\n",
              "      height: 32px;\n",
              "      padding: 0 0 0 0;\n",
              "      width: 32px;\n",
              "    }\n",
              "\n",
              "    .colab-df-convert:hover {\n",
              "      background-color: #E2EBFA;\n",
              "      box-shadow: 0px 1px 2px rgba(60, 64, 67, 0.3), 0px 1px 3px 1px rgba(60, 64, 67, 0.15);\n",
              "      fill: #174EA6;\n",
              "    }\n",
              "\n",
              "    [theme=dark] .colab-df-convert {\n",
              "      background-color: #3B4455;\n",
              "      fill: #D2E3FC;\n",
              "    }\n",
              "\n",
              "    [theme=dark] .colab-df-convert:hover {\n",
              "      background-color: #434B5C;\n",
              "      box-shadow: 0px 1px 3px 1px rgba(0, 0, 0, 0.15);\n",
              "      filter: drop-shadow(0px 1px 2px rgba(0, 0, 0, 0.3));\n",
              "      fill: #FFFFFF;\n",
              "    }\n",
              "  </style>\n",
              "\n",
              "      <script>\n",
              "        const buttonEl =\n",
              "          document.querySelector('#df-0e6ed7dc-eff1-4e9e-90dc-8e5f7422c6b2 button.colab-df-convert');\n",
              "        buttonEl.style.display =\n",
              "          google.colab.kernel.accessAllowed ? 'block' : 'none';\n",
              "\n",
              "        async function convertToInteractive(key) {\n",
              "          const element = document.querySelector('#df-0e6ed7dc-eff1-4e9e-90dc-8e5f7422c6b2');\n",
              "          const dataTable =\n",
              "            await google.colab.kernel.invokeFunction('convertToInteractive',\n",
              "                                                     [key], {});\n",
              "          if (!dataTable) return;\n",
              "\n",
              "          const docLinkHtml = 'Like what you see? Visit the ' +\n",
              "            '<a target=\"_blank\" href=https://colab.research.google.com/notebooks/data_table.ipynb>data table notebook</a>'\n",
              "            + ' to learn more about interactive tables.';\n",
              "          element.innerHTML = '';\n",
              "          dataTable['output_type'] = 'display_data';\n",
              "          await google.colab.output.renderOutput(dataTable, element);\n",
              "          const docLink = document.createElement('div');\n",
              "          docLink.innerHTML = docLinkHtml;\n",
              "          element.appendChild(docLink);\n",
              "        }\n",
              "      </script>\n",
              "    </div>\n",
              "  </div>\n",
              "  "
            ]
          },
          "metadata": {},
          "execution_count": 304
        }
      ]
    },
    {
      "cell_type": "code",
      "source": [
        "# Plot train predictions vs actuals - first 1000 observations for closer fit investigation\n",
        "plt.subplots(figsize = (16, 8))\n",
        "plt.plot(lstm_results_df['Test Predictions'])\n",
        "plt.plot(lstm_results_df['Actuals'])\n",
        "plt.title(\"LSTM - Test Predictions vs Actual Values\")\n",
        "plt.xlabel(\"Observations\")\n",
        "plt.ylabel(\"Daily deaths\")\n",
        "plt.legend(lstm_results_df)\n",
        "plt.savefig('lstm_test_preds_vs_actuals.png')"
      ],
      "metadata": {
        "colab": {
          "base_uri": "https://localhost:8080/",
          "height": 526
        },
        "id": "Mkh5hIq4PvD-",
        "outputId": "321286a5-ab19-4b4c-8279-cf26211c2fd8"
      },
      "execution_count": 305,
      "outputs": [
        {
          "output_type": "display_data",
          "data": {
            "text/plain": [
              "<Figure size 1600x800 with 1 Axes>"
            ],
            "image/png": "[encoded data removed]"
          },
          "metadata": {}
        }
      ]
    }
  ]
}